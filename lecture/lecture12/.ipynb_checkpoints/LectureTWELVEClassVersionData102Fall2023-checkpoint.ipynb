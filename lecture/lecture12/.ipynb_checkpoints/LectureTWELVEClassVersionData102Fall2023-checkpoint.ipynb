{
 "cells": [
  {
   "cell_type": "markdown",
   "id": "07fe886a-9535-4c67-9f34-612fa6167285",
   "metadata": {},
   "source": [
    "# More on Poisson Regression, and GLMs\n",
    "\n",
    "In the last lecture, we fit the Poisson regression model to the Mroz dataset which has data on a bunch of economic variables for married women in the year 1975. "
   ]
  },
  {
   "cell_type": "code",
   "execution_count": 1,
   "id": "2babd431-efaf-409c-baee-f6dbfd724762",
   "metadata": {},
   "outputs": [],
   "source": [
    "import pandas as pd\n",
    "import numpy as np\n",
    "import statsmodels.api as sm"
   ]
  },
  {
   "cell_type": "code",
   "execution_count": 3,
   "id": "0c233015-4040-4596-a49a-1c60262dfde2",
   "metadata": {},
   "outputs": [
    {
     "data": {
      "text/html": [
       "<div>\n",
       "<style scoped>\n",
       "    .dataframe tbody tr th:only-of-type {\n",
       "        vertical-align: middle;\n",
       "    }\n",
       "\n",
       "    .dataframe tbody tr th {\n",
       "        vertical-align: top;\n",
       "    }\n",
       "\n",
       "    .dataframe thead th {\n",
       "        text-align: right;\n",
       "    }\n",
       "</style>\n",
       "<table border=\"1\" class=\"dataframe\">\n",
       "  <thead>\n",
       "    <tr style=\"text-align: right;\">\n",
       "      <th></th>\n",
       "      <th>inlf</th>\n",
       "      <th>hours</th>\n",
       "      <th>kidslt6</th>\n",
       "      <th>kidsge6</th>\n",
       "      <th>age</th>\n",
       "      <th>educ</th>\n",
       "      <th>wage</th>\n",
       "      <th>repwage</th>\n",
       "      <th>hushrs</th>\n",
       "      <th>husage</th>\n",
       "      <th>...</th>\n",
       "      <th>faminc</th>\n",
       "      <th>mtr</th>\n",
       "      <th>motheduc</th>\n",
       "      <th>fatheduc</th>\n",
       "      <th>unem</th>\n",
       "      <th>city</th>\n",
       "      <th>exper</th>\n",
       "      <th>nwifeinc</th>\n",
       "      <th>lwage</th>\n",
       "      <th>expersq</th>\n",
       "    </tr>\n",
       "  </thead>\n",
       "  <tbody>\n",
       "    <tr>\n",
       "      <th>0</th>\n",
       "      <td>1</td>\n",
       "      <td>1610</td>\n",
       "      <td>1</td>\n",
       "      <td>0</td>\n",
       "      <td>32</td>\n",
       "      <td>12</td>\n",
       "      <td>3.3540</td>\n",
       "      <td>2.65</td>\n",
       "      <td>2708</td>\n",
       "      <td>34</td>\n",
       "      <td>...</td>\n",
       "      <td>16310</td>\n",
       "      <td>0.7215</td>\n",
       "      <td>12</td>\n",
       "      <td>7</td>\n",
       "      <td>5.0</td>\n",
       "      <td>0</td>\n",
       "      <td>14</td>\n",
       "      <td>10.910060</td>\n",
       "      <td>1.210154</td>\n",
       "      <td>196</td>\n",
       "    </tr>\n",
       "    <tr>\n",
       "      <th>1</th>\n",
       "      <td>1</td>\n",
       "      <td>1656</td>\n",
       "      <td>0</td>\n",
       "      <td>2</td>\n",
       "      <td>30</td>\n",
       "      <td>12</td>\n",
       "      <td>1.3889</td>\n",
       "      <td>2.65</td>\n",
       "      <td>2310</td>\n",
       "      <td>30</td>\n",
       "      <td>...</td>\n",
       "      <td>21800</td>\n",
       "      <td>0.6615</td>\n",
       "      <td>7</td>\n",
       "      <td>7</td>\n",
       "      <td>11.0</td>\n",
       "      <td>1</td>\n",
       "      <td>5</td>\n",
       "      <td>19.499981</td>\n",
       "      <td>0.328512</td>\n",
       "      <td>25</td>\n",
       "    </tr>\n",
       "    <tr>\n",
       "      <th>2</th>\n",
       "      <td>1</td>\n",
       "      <td>1980</td>\n",
       "      <td>1</td>\n",
       "      <td>3</td>\n",
       "      <td>35</td>\n",
       "      <td>12</td>\n",
       "      <td>4.5455</td>\n",
       "      <td>4.04</td>\n",
       "      <td>3072</td>\n",
       "      <td>40</td>\n",
       "      <td>...</td>\n",
       "      <td>21040</td>\n",
       "      <td>0.6915</td>\n",
       "      <td>12</td>\n",
       "      <td>7</td>\n",
       "      <td>5.0</td>\n",
       "      <td>0</td>\n",
       "      <td>15</td>\n",
       "      <td>12.039910</td>\n",
       "      <td>1.514138</td>\n",
       "      <td>225</td>\n",
       "    </tr>\n",
       "    <tr>\n",
       "      <th>3</th>\n",
       "      <td>1</td>\n",
       "      <td>456</td>\n",
       "      <td>0</td>\n",
       "      <td>3</td>\n",
       "      <td>34</td>\n",
       "      <td>12</td>\n",
       "      <td>1.0965</td>\n",
       "      <td>3.25</td>\n",
       "      <td>1920</td>\n",
       "      <td>53</td>\n",
       "      <td>...</td>\n",
       "      <td>7300</td>\n",
       "      <td>0.7815</td>\n",
       "      <td>7</td>\n",
       "      <td>7</td>\n",
       "      <td>5.0</td>\n",
       "      <td>0</td>\n",
       "      <td>6</td>\n",
       "      <td>6.799996</td>\n",
       "      <td>0.092123</td>\n",
       "      <td>36</td>\n",
       "    </tr>\n",
       "    <tr>\n",
       "      <th>4</th>\n",
       "      <td>1</td>\n",
       "      <td>1568</td>\n",
       "      <td>1</td>\n",
       "      <td>2</td>\n",
       "      <td>31</td>\n",
       "      <td>14</td>\n",
       "      <td>4.5918</td>\n",
       "      <td>3.60</td>\n",
       "      <td>2000</td>\n",
       "      <td>32</td>\n",
       "      <td>...</td>\n",
       "      <td>27300</td>\n",
       "      <td>0.6215</td>\n",
       "      <td>12</td>\n",
       "      <td>14</td>\n",
       "      <td>9.5</td>\n",
       "      <td>1</td>\n",
       "      <td>7</td>\n",
       "      <td>20.100058</td>\n",
       "      <td>1.524272</td>\n",
       "      <td>49</td>\n",
       "    </tr>\n",
       "    <tr>\n",
       "      <th>5</th>\n",
       "      <td>1</td>\n",
       "      <td>2032</td>\n",
       "      <td>0</td>\n",
       "      <td>0</td>\n",
       "      <td>54</td>\n",
       "      <td>12</td>\n",
       "      <td>4.7421</td>\n",
       "      <td>4.70</td>\n",
       "      <td>1040</td>\n",
       "      <td>57</td>\n",
       "      <td>...</td>\n",
       "      <td>19495</td>\n",
       "      <td>0.6915</td>\n",
       "      <td>14</td>\n",
       "      <td>7</td>\n",
       "      <td>7.5</td>\n",
       "      <td>1</td>\n",
       "      <td>33</td>\n",
       "      <td>9.859054</td>\n",
       "      <td>1.556480</td>\n",
       "      <td>1089</td>\n",
       "    </tr>\n",
       "    <tr>\n",
       "      <th>6</th>\n",
       "      <td>1</td>\n",
       "      <td>1440</td>\n",
       "      <td>0</td>\n",
       "      <td>2</td>\n",
       "      <td>37</td>\n",
       "      <td>16</td>\n",
       "      <td>8.3333</td>\n",
       "      <td>5.95</td>\n",
       "      <td>2670</td>\n",
       "      <td>37</td>\n",
       "      <td>...</td>\n",
       "      <td>21152</td>\n",
       "      <td>0.6915</td>\n",
       "      <td>14</td>\n",
       "      <td>7</td>\n",
       "      <td>5.0</td>\n",
       "      <td>0</td>\n",
       "      <td>11</td>\n",
       "      <td>9.152048</td>\n",
       "      <td>2.120260</td>\n",
       "      <td>121</td>\n",
       "    </tr>\n",
       "    <tr>\n",
       "      <th>7</th>\n",
       "      <td>1</td>\n",
       "      <td>1020</td>\n",
       "      <td>0</td>\n",
       "      <td>0</td>\n",
       "      <td>54</td>\n",
       "      <td>12</td>\n",
       "      <td>7.8431</td>\n",
       "      <td>9.98</td>\n",
       "      <td>4120</td>\n",
       "      <td>53</td>\n",
       "      <td>...</td>\n",
       "      <td>18900</td>\n",
       "      <td>0.6915</td>\n",
       "      <td>3</td>\n",
       "      <td>3</td>\n",
       "      <td>5.0</td>\n",
       "      <td>0</td>\n",
       "      <td>35</td>\n",
       "      <td>10.900038</td>\n",
       "      <td>2.059634</td>\n",
       "      <td>1225</td>\n",
       "    </tr>\n",
       "    <tr>\n",
       "      <th>8</th>\n",
       "      <td>1</td>\n",
       "      <td>1458</td>\n",
       "      <td>0</td>\n",
       "      <td>2</td>\n",
       "      <td>48</td>\n",
       "      <td>12</td>\n",
       "      <td>2.1262</td>\n",
       "      <td>0.00</td>\n",
       "      <td>1995</td>\n",
       "      <td>52</td>\n",
       "      <td>...</td>\n",
       "      <td>20405</td>\n",
       "      <td>0.7515</td>\n",
       "      <td>7</td>\n",
       "      <td>7</td>\n",
       "      <td>3.0</td>\n",
       "      <td>0</td>\n",
       "      <td>24</td>\n",
       "      <td>17.305000</td>\n",
       "      <td>0.754336</td>\n",
       "      <td>576</td>\n",
       "    </tr>\n",
       "    <tr>\n",
       "      <th>9</th>\n",
       "      <td>1</td>\n",
       "      <td>1600</td>\n",
       "      <td>0</td>\n",
       "      <td>2</td>\n",
       "      <td>39</td>\n",
       "      <td>12</td>\n",
       "      <td>4.6875</td>\n",
       "      <td>4.15</td>\n",
       "      <td>2100</td>\n",
       "      <td>43</td>\n",
       "      <td>...</td>\n",
       "      <td>20425</td>\n",
       "      <td>0.6915</td>\n",
       "      <td>7</td>\n",
       "      <td>7</td>\n",
       "      <td>5.0</td>\n",
       "      <td>0</td>\n",
       "      <td>21</td>\n",
       "      <td>12.925000</td>\n",
       "      <td>1.544899</td>\n",
       "      <td>441</td>\n",
       "    </tr>\n",
       "    <tr>\n",
       "      <th>10</th>\n",
       "      <td>1</td>\n",
       "      <td>1969</td>\n",
       "      <td>0</td>\n",
       "      <td>1</td>\n",
       "      <td>33</td>\n",
       "      <td>12</td>\n",
       "      <td>4.0630</td>\n",
       "      <td>4.30</td>\n",
       "      <td>2450</td>\n",
       "      <td>34</td>\n",
       "      <td>...</td>\n",
       "      <td>32300</td>\n",
       "      <td>0.5815</td>\n",
       "      <td>12</td>\n",
       "      <td>3</td>\n",
       "      <td>5.0</td>\n",
       "      <td>0</td>\n",
       "      <td>15</td>\n",
       "      <td>24.299953</td>\n",
       "      <td>1.401922</td>\n",
       "      <td>225</td>\n",
       "    </tr>\n",
       "    <tr>\n",
       "      <th>11</th>\n",
       "      <td>1</td>\n",
       "      <td>1960</td>\n",
       "      <td>0</td>\n",
       "      <td>1</td>\n",
       "      <td>42</td>\n",
       "      <td>11</td>\n",
       "      <td>4.5918</td>\n",
       "      <td>4.58</td>\n",
       "      <td>2375</td>\n",
       "      <td>47</td>\n",
       "      <td>...</td>\n",
       "      <td>28700</td>\n",
       "      <td>0.6215</td>\n",
       "      <td>14</td>\n",
       "      <td>7</td>\n",
       "      <td>5.0</td>\n",
       "      <td>0</td>\n",
       "      <td>14</td>\n",
       "      <td>19.700071</td>\n",
       "      <td>1.524272</td>\n",
       "      <td>196</td>\n",
       "    </tr>\n",
       "  </tbody>\n",
       "</table>\n",
       "<p>12 rows × 22 columns</p>\n",
       "</div>"
      ],
      "text/plain": [
       "    inlf  hours  kidslt6  kidsge6  age  educ    wage  repwage  hushrs  husage  \\\n",
       "0      1   1610        1        0   32    12  3.3540     2.65    2708      34   \n",
       "1      1   1656        0        2   30    12  1.3889     2.65    2310      30   \n",
       "2      1   1980        1        3   35    12  4.5455     4.04    3072      40   \n",
       "3      1    456        0        3   34    12  1.0965     3.25    1920      53   \n",
       "4      1   1568        1        2   31    14  4.5918     3.60    2000      32   \n",
       "5      1   2032        0        0   54    12  4.7421     4.70    1040      57   \n",
       "6      1   1440        0        2   37    16  8.3333     5.95    2670      37   \n",
       "7      1   1020        0        0   54    12  7.8431     9.98    4120      53   \n",
       "8      1   1458        0        2   48    12  2.1262     0.00    1995      52   \n",
       "9      1   1600        0        2   39    12  4.6875     4.15    2100      43   \n",
       "10     1   1969        0        1   33    12  4.0630     4.30    2450      34   \n",
       "11     1   1960        0        1   42    11  4.5918     4.58    2375      47   \n",
       "\n",
       "    ...  faminc     mtr  motheduc  fatheduc  unem  city  exper   nwifeinc  \\\n",
       "0   ...   16310  0.7215        12         7   5.0     0     14  10.910060   \n",
       "1   ...   21800  0.6615         7         7  11.0     1      5  19.499981   \n",
       "2   ...   21040  0.6915        12         7   5.0     0     15  12.039910   \n",
       "3   ...    7300  0.7815         7         7   5.0     0      6   6.799996   \n",
       "4   ...   27300  0.6215        12        14   9.5     1      7  20.100058   \n",
       "5   ...   19495  0.6915        14         7   7.5     1     33   9.859054   \n",
       "6   ...   21152  0.6915        14         7   5.0     0     11   9.152048   \n",
       "7   ...   18900  0.6915         3         3   5.0     0     35  10.900038   \n",
       "8   ...   20405  0.7515         7         7   3.0     0     24  17.305000   \n",
       "9   ...   20425  0.6915         7         7   5.0     0     21  12.925000   \n",
       "10  ...   32300  0.5815        12         3   5.0     0     15  24.299953   \n",
       "11  ...   28700  0.6215        14         7   5.0     0     14  19.700071   \n",
       "\n",
       "       lwage  expersq  \n",
       "0   1.210154      196  \n",
       "1   0.328512       25  \n",
       "2   1.514138      225  \n",
       "3   0.092123       36  \n",
       "4   1.524272       49  \n",
       "5   1.556480     1089  \n",
       "6   2.120260      121  \n",
       "7   2.059634     1225  \n",
       "8   0.754336      576  \n",
       "9   1.544899      441  \n",
       "10  1.401922      225  \n",
       "11  1.524272      196  \n",
       "\n",
       "[12 rows x 22 columns]"
      ]
     },
     "execution_count": 3,
     "metadata": {},
     "output_type": "execute_result"
    }
   ],
   "source": [
    "#Import the MROZ.csv dataset\n",
    "mroz = pd.read_csv(\"MROZ.csv\")\n",
    "mroz.head(12)"
   ]
  },
  {
   "cell_type": "markdown",
   "id": "7492dc6c-1592-425b-9353-25660ca37494",
   "metadata": {},
   "source": [
    "Specifically, we fit the following model for the response \"hours\" in terms of the covariates \"kidslt6\", \"age\", \"educ\", \"huswage\", \"exper\" and \"expersq\"."
   ]
  },
  {
   "cell_type": "code",
   "execution_count": 5,
   "id": "6b3d9a08-f9d4-4bca-bfe5-d421257db53c",
   "metadata": {},
   "outputs": [
    {
     "name": "stdout",
     "output_type": "stream",
     "text": [
      "                 Generalized Linear Model Regression Results                  \n",
      "==============================================================================\n",
      "Dep. Variable:                  hours   No. Observations:                  753\n",
      "Model:                            GLM   Df Residuals:                      746\n",
      "Model Family:                 Poisson   Df Model:                            6\n",
      "Link Function:                    Log   Scale:                          1.0000\n",
      "Method:                          IRLS   Log-Likelihood:            -3.1563e+05\n",
      "Date:                Tue, 03 Oct 2023   Deviance:                   6.2754e+05\n",
      "Time:                        22:00:04   Pearson chi2:                 6.60e+05\n",
      "No. Iterations:                     5   Pseudo R-squ. (CS):              1.000\n",
      "Covariance Type:            nonrobust                                         \n",
      "==============================================================================\n",
      "                 coef    std err          z      P>|z|      [0.025      0.975]\n",
      "------------------------------------------------------------------------------\n",
      "const          6.9365      0.012    562.281      0.000       6.912       6.961\n",
      "kidslt6       -0.8075      0.004   -193.217      0.000      -0.816      -0.799\n",
      "age           -0.0427      0.000   -201.166      0.000      -0.043      -0.042\n",
      "educ           0.0528      0.001     83.439      0.000       0.052       0.054\n",
      "huswage       -0.0207      0.000    -54.548      0.000      -0.021      -0.020\n",
      "exper          0.1204      0.001    219.231      0.000       0.119       0.121\n",
      "expersq       -0.0018   1.63e-05   -112.090      0.000      -0.002      -0.002\n",
      "==============================================================================\n"
     ]
    }
   ],
   "source": [
    "#Poisson Regression through StatsModels\n",
    "# Define the response variable and covariates\n",
    "Y = mroz['hours']\n",
    "X = mroz[['kidslt6', 'age', 'educ', \n",
    "        'huswage', 'exper', 'expersq']].copy()\n",
    "X = sm.add_constant(X) # Add a constant (intercept) to the model\n",
    "# Fit the Poisson regression model\n",
    "poiregmodel = sm.GLM(Y, X, family=sm.families.Poisson()).fit()\n",
    "print(poiregmodel.summary())"
   ]
  },
  {
   "cell_type": "markdown",
   "id": "66dcff2b-b35d-47e7-9090-a12250ce9df0",
   "metadata": {},
   "source": [
    "We have seen in the last class that \"kidslt6\" is an important variable and its coefficient -0.8075 for the \"kidslt6\" variable gives the following interpretation: having a small kid reduces mean hours worked by 55%. Suppose we replace this variable by \"kidsge6\" and refit the model. Will this give us a worse model? How do we check that the model indeed gets worse?"
   ]
  },
  {
   "cell_type": "code",
   "execution_count": 6,
   "id": "05d36c57-2cc1-459d-ad2c-3af8786377c2",
   "metadata": {},
   "outputs": [
    {
     "name": "stdout",
     "output_type": "stream",
     "text": [
      "-55.40391074218227\n"
     ]
    }
   ],
   "source": [
    "#56% comes from:\n",
    "print((np.exp(poiregmodel.params['kidslt6']) - 1)*100)"
   ]
  },
  {
   "cell_type": "code",
   "execution_count": 7,
   "id": "1eed4c83-69f8-4b14-8852-80b30b06c872",
   "metadata": {},
   "outputs": [
    {
     "name": "stdout",
     "output_type": "stream",
     "text": [
      "                 Generalized Linear Model Regression Results                  \n",
      "==============================================================================\n",
      "Dep. Variable:                  hours   No. Observations:                  753\n",
      "Model:                            GLM   Df Residuals:                      746\n",
      "Model Family:                 Poisson   Df Model:                            6\n",
      "Link Function:                    Log   Scale:                          1.0000\n",
      "Method:                          IRLS   Log-Likelihood:            -3.4027e+05\n",
      "Date:                Tue, 03 Oct 2023   Deviance:                   6.7681e+05\n",
      "Time:                        22:00:08   Pearson chi2:                 6.78e+05\n",
      "No. Iterations:                     5   Pseudo R-squ. (CS):              1.000\n",
      "Covariance Type:            nonrobust                                         \n",
      "==============================================================================\n",
      "                 coef    std err          z      P>|z|      [0.025      0.975]\n",
      "------------------------------------------------------------------------------\n",
      "const          6.2418      0.013    485.960      0.000       6.217       6.267\n",
      "kidsge6       -0.0084      0.001     -7.347      0.000      -0.011      -0.006\n",
      "age           -0.0278      0.000   -135.231      0.000      -0.028      -0.027\n",
      "educ           0.0410      0.001     65.183      0.000       0.040       0.042\n",
      "huswage       -0.0214      0.000    -56.022      0.000      -0.022      -0.021\n",
      "exper          0.1348      0.001    245.305      0.000       0.134       0.136\n",
      "expersq       -0.0022   1.62e-05   -136.487      0.000      -0.002      -0.002\n",
      "==============================================================================\n"
     ]
    }
   ],
   "source": [
    "Y = mroz['hours']\n",
    "X1 = mroz[['kidsge6', 'age', 'educ', \n",
    "        'huswage', 'exper', 'expersq']].copy() #'kidslt6' is now dropped\n",
    "X1 = sm.add_constant(X1) \n",
    "poiregmodel1 = sm.GLM(Y, X1, family=sm.families.Poisson()).fit()\n",
    "print(poiregmodel1.summary())"
   ]
  },
  {
   "cell_type": "markdown",
   "id": "8963b3b2-b4d5-4958-89fd-41a181e55e11",
   "metadata": {},
   "source": [
    "Check that the log-likelihood for the model with 'kidslt6' is higher than that of 'kidsge6'. Also the Deviance for the former model is smaller than the latter model. "
   ]
  },
  {
   "cell_type": "code",
   "execution_count": 8,
   "id": "86253c9f-8794-476d-a7b1-22fbd227aaca",
   "metadata": {},
   "outputs": [
    {
     "name": "stdout",
     "output_type": "stream",
     "text": [
      "Model with 'kidslt6': Log-Likelihood = -315632.12091262755, Deviance = 627538.4070785991\n",
      "Model with 'kidsge6': Log-Likelihood = -340265.97607505764, Deviance = 676806.1174034592\n"
     ]
    }
   ],
   "source": [
    "# Log-Likelihood\n",
    "logLik_model = poiregmodel.llf\n",
    "logLik_model1 = poiregmodel1.llf\n",
    "\n",
    "# Deviance\n",
    "deviance_model = poiregmodel.deviance\n",
    "deviance_model1 = poiregmodel1.deviance\n",
    "\n",
    "# Print results\n",
    "print(f\"Model with 'kidslt6': Log-Likelihood = {logLik_model}, Deviance = {deviance_model}\")\n",
    "print(f\"Model with 'kidsge6': Log-Likelihood = {logLik_model1}, Deviance = {deviance_model1}\")"
   ]
  },
  {
   "cell_type": "code",
   "execution_count": 9,
   "id": "defb642f-2b0f-4ccf-b34a-8385a90da76c",
   "metadata": {},
   "outputs": [
    {
     "name": "stdout",
     "output_type": "stream",
     "text": [
      "                 Generalized Linear Model Regression Results                  \n",
      "==============================================================================\n",
      "Dep. Variable:                  hours   No. Observations:                  753\n",
      "Model:                            GLM   Df Residuals:                      747\n",
      "Model Family:                 Poisson   Df Model:                            5\n",
      "Link Function:                    Log   Scale:                          1.0000\n",
      "Method:                          IRLS   Log-Likelihood:            -3.4029e+05\n",
      "Date:                Tue, 03 Oct 2023   Deviance:                   6.7686e+05\n",
      "Time:                        22:00:24   Pearson chi2:                 6.79e+05\n",
      "No. Iterations:                     5   Pseudo R-squ. (CS):              1.000\n",
      "Covariance Type:            nonrobust                                         \n",
      "==============================================================================\n",
      "                 coef    std err          z      P>|z|      [0.025      0.975]\n",
      "------------------------------------------------------------------------------\n",
      "const          6.2080      0.012    517.391      0.000       6.184       6.232\n",
      "age           -0.0275      0.000   -136.384      0.000      -0.028      -0.027\n",
      "educ           0.0415      0.001     66.130      0.000       0.040       0.043\n",
      "huswage       -0.0213      0.000    -55.888      0.000      -0.022      -0.021\n",
      "exper          0.1352      0.001    246.774      0.000       0.134       0.136\n",
      "expersq       -0.0022   1.62e-05   -136.534      0.000      -0.002      -0.002\n",
      "==============================================================================\n"
     ]
    }
   ],
   "source": [
    "Y = mroz['hours']\n",
    "X_no_kids = mroz[['age', 'educ', \n",
    "        'huswage', 'exper', 'expersq']].copy() #'kidslt6' is now dropped\n",
    "X_no_kids = sm.add_constant(X_no_kids) \n",
    "poiregmodel_no_kids = sm.GLM(Y, X_no_kids, family=sm.families.Poisson()).fit()\n",
    "print(poiregmodel_no_kids.summary())"
   ]
  },
  {
   "cell_type": "markdown",
   "id": "10589105-2365-4a3e-aa2e-70baf04ab1fd",
   "metadata": {},
   "source": [
    "Some measures that are used for comparing models are: \n",
    "\n",
    "1. Log-Likelihood: higher the better (but models with more parameters always have higher log-likelihoods)\n",
    "2. Deviance: lower the better (but models with more parameters always have lower deviance)\n",
    "3. Akaike Information Criterion (AIC): lower the better\n",
    "4. Bayesian Information Criterion (BIC): lower the better"
   ]
  },
  {
   "cell_type": "code",
   "execution_count": 10,
   "id": "912106ad-8e48-490d-bb08-a4398aa15c13",
   "metadata": {},
   "outputs": [
    {
     "name": "stdout",
     "output_type": "stream",
     "text": [
      "Model with 'kidslt6': Log-Likelihood = -315632.12091262755, Deviance = 627538.4070785991\n",
      "Model without 'kidslt6': Log-Likelihood = -340293.05791103386, Deviance = 676860.2810754117\n"
     ]
    }
   ],
   "source": [
    "# Log-Likelihood\n",
    "logLik_model = poiregmodel.llf\n",
    "logLik_model_no_kids = poiregmodel_no_kids.llf\n",
    "\n",
    "# Deviance\n",
    "deviance_model = poiregmodel.deviance\n",
    "deviance_model_no_kids = poiregmodel_no_kids.deviance\n",
    "\n",
    "# Print results\n",
    "print(f\"Model with 'kidslt6': Log-Likelihood = {logLik_model}, Deviance = {deviance_model}\")\n",
    "print(f\"Model without 'kidslt6': Log-Likelihood = {logLik_model_no_kids}, Deviance = {deviance_model_no_kids}\")"
   ]
  },
  {
   "cell_type": "code",
   "execution_count": 11,
   "id": "cd0f50db-85f8-4fa9-a480-800e79261a88",
   "metadata": {},
   "outputs": [
    {
     "name": "stdout",
     "output_type": "stream",
     "text": [
      "AIC with 'kidslt6':  631278.2418252551\n",
      "AIC without 'kidslt6':  680598.1158220677\n",
      "BIC with 'kidslt6':  631310.6102818497\n",
      "BIC without 'kidslt6':  680625.8602134346\n"
     ]
    }
   ],
   "source": [
    "print(\"AIC with 'kidslt6': \", poiregmodel.aic)\n",
    "print(\"AIC without 'kidslt6': \", poiregmodel_no_kids.aic)\n",
    "print(\"BIC with 'kidslt6': \", poiregmodel.bic_llf)\n",
    "print(\"BIC without 'kidslt6': \", poiregmodel_no_kids.bic_llf)"
   ]
  },
  {
   "cell_type": "markdown",
   "id": "7366b815-0217-4f14-87db-28d9c4db0404",
   "metadata": {},
   "source": [
    "Clearly, the AIC and BIC are much smaller for the model with the 'kidslt6' variable. "
   ]
  },
  {
   "cell_type": "code",
   "execution_count": 12,
   "id": "28efd074-d0cf-46eb-b582-a136aac99fd3",
   "metadata": {},
   "outputs": [
    {
     "name": "stdout",
     "output_type": "stream",
     "text": [
      "                 Generalized Linear Model Regression Results                  \n",
      "==============================================================================\n",
      "Dep. Variable:                  hours   No. Observations:                  753\n",
      "Model:                            GLM   Df Residuals:                      751\n",
      "Model Family:                 Poisson   Df Model:                            1\n",
      "Link Function:                    Log   Scale:                          1.0000\n",
      "Method:                          IRLS   Log-Likelihood:            -4.0312e+05\n",
      "Date:                Tue, 03 Oct 2023   Deviance:                   8.0251e+05\n",
      "Time:                        22:00:34   Pearson chi2:                 7.77e+05\n",
      "No. Iterations:                     5   Pseudo R-squ. (CS):              1.000\n",
      "Covariance Type:            nonrobust                                         \n",
      "==============================================================================\n",
      "                 coef    std err          z      P>|z|      [0.025      0.975]\n",
      "------------------------------------------------------------------------------\n",
      "const          6.7286      0.001   4807.711      0.000       6.726       6.731\n",
      "kidslt6       -0.7612      0.004   -189.012      0.000      -0.769      -0.753\n",
      "==============================================================================\n",
      "                 Generalized Linear Model Regression Results                  \n",
      "==============================================================================\n",
      "Dep. Variable:                  hours   No. Observations:                  753\n",
      "Model:                            GLM   Df Residuals:                      744\n",
      "Model Family:                 Poisson   Df Model:                            8\n",
      "Link Function:                    Log   Scale:                          1.0000\n",
      "Method:                          IRLS   Log-Likelihood:            -3.9510e+05\n",
      "Date:                Tue, 03 Oct 2023   Deviance:                   7.8647e+05\n",
      "Time:                        22:00:34   Pearson chi2:                 7.69e+05\n",
      "No. Iterations:                     5   Pseudo R-squ. (CS):              1.000\n",
      "Covariance Type:            nonrobust                                         \n",
      "==============================================================================\n",
      "                 coef    std err          z      P>|z|      [0.025      0.975]\n",
      "------------------------------------------------------------------------------\n",
      "const          7.0118      0.009    807.783      0.000       6.995       7.029\n",
      "kidslt6       -0.7725      0.004   -190.081      0.000      -0.780      -0.765\n",
      "fatheduc      -0.0024      0.000     -4.950      0.000      -0.003      -0.001\n",
      "motheduc       0.0329      0.000     67.366      0.000       0.032       0.034\n",
      "huseduc        0.0047      0.000      9.406      0.000       0.004       0.006\n",
      "unem          -0.0252      0.000    -56.423      0.000      -0.026      -0.024\n",
      "city          -0.0759      0.003    -25.725      0.000      -0.082      -0.070\n",
      "hushrs        -0.0001   2.37e-06    -53.445      0.000      -0.000      -0.000\n",
      "kidsge6       -0.0622      0.001    -57.909      0.000      -0.064      -0.060\n",
      "==============================================================================\n"
     ]
    },
    {
     "data": {
      "text/plain": [
       "[806236.5194121726, 790213.1968248647]"
      ]
     },
     "metadata": {},
     "output_type": "display_data"
    }
   ],
   "source": [
    "Y = mroz['hours']\n",
    "Xfull = mroz[['kidslt6', 'kidsge6', 'age', 'educ', 'hushrs', 'huseduc', 'huswage', \n",
    "           'motheduc', 'fatheduc', 'exper', 'expersq', 'unem', 'city']]\n",
    "X_one = mroz[['kidslt6']] #'kidslt6' is now dropped\n",
    "X_one = sm.add_constant(X_one) \n",
    "poiregmodel_one = sm.GLM(Y, X_one, family=sm.families.Poisson()).fit()\n",
    "print(poiregmodel_one.summary())\n",
    "\n",
    "X_two = mroz[['kidslt6', 'fatheduc', 'motheduc', 'huseduc', 'unem', 'city', 'hushrs', 'kidsge6']]\n",
    "X_two = sm.add_constant(X_two) \n",
    "poiregmodel_two = sm.GLM(Y, X_two, family=sm.families.Poisson()).fit()\n",
    "print(poiregmodel_two.summary())\n",
    "\n",
    "display([poiregmodel_one.aic, poiregmodel_two.aic])"
   ]
  },
  {
   "cell_type": "code",
   "execution_count": 13,
   "id": "fd99174a-336b-4249-b851-1515827e094e",
   "metadata": {},
   "outputs": [
    {
     "name": "stdout",
     "output_type": "stream",
     "text": [
      "                 Generalized Linear Model Regression Results                  \n",
      "==============================================================================\n",
      "Dep. Variable:                  hours   No. Observations:                  753\n",
      "Model:                            GLM   Df Residuals:                      739\n",
      "Model Family:                 Poisson   Df Model:                           13\n",
      "Link Function:                    Log   Scale:                          1.0000\n",
      "Method:                          IRLS   Log-Likelihood:            -3.1222e+05\n",
      "Date:                Tue, 03 Oct 2023   Deviance:                   6.2072e+05\n",
      "Time:                        22:00:37   Pearson chi2:                 6.53e+05\n",
      "No. Iterations:                     5   Pseudo R-squ. (CS):              1.000\n",
      "Covariance Type:            nonrobust                                         \n",
      "==============================================================================\n",
      "                 coef    std err          z      P>|z|      [0.025      0.975]\n",
      "------------------------------------------------------------------------------\n",
      "const          7.4625      0.015    503.407      0.000       7.433       7.492\n",
      "kidslt6       -0.8180      0.004   -194.435      0.000      -0.826      -0.810\n",
      "kidsge6       -0.0369      0.001    -31.452      0.000      -0.039      -0.035\n",
      "age           -0.0433      0.000   -194.433      0.000      -0.044      -0.043\n",
      "educ           0.0604      0.001     74.681      0.000       0.059       0.062\n",
      "hushrs        -0.0001    2.5e-06    -49.100      0.000      -0.000      -0.000\n",
      "huseduc       -0.0135      0.001    -22.282      0.000      -0.015      -0.012\n",
      "huswage       -0.0241      0.000    -55.083      0.000      -0.025      -0.023\n",
      "motheduc       0.0137      0.000     27.570      0.000       0.013       0.015\n",
      "fatheduc      -0.0037      0.000     -7.535      0.000      -0.005      -0.003\n",
      "exper          0.1177      0.001    212.420      0.000       0.117       0.119\n",
      "expersq       -0.0018   1.64e-05   -112.054      0.000      -0.002      -0.002\n",
      "unem          -0.0195      0.000    -42.213      0.000      -0.020      -0.019\n",
      "city           0.0452      0.003     14.890      0.000       0.039       0.051\n",
      "==============================================================================\n"
     ]
    }
   ],
   "source": [
    "Y = mroz['hours']\n",
    "Xfull = mroz[['kidslt6', 'kidsge6', 'age', 'educ', 'hushrs', 'huseduc', 'huswage', \n",
    "           'motheduc', 'fatheduc', 'exper', 'expersq', 'unem', 'city']]\n",
    "Xfull = sm.add_constant(Xfull) \n",
    "poiregmodel_full = sm.GLM(Y, Xfull, family=sm.families.Poisson()).fit()\n",
    "print(poiregmodel_full.summary())"
   ]
  },
  {
   "cell_type": "code",
   "execution_count": 14,
   "id": "d8971ddf-3a50-4a12-9b67-7700460c7d1b",
   "metadata": {},
   "outputs": [
    {
     "name": "stdout",
     "output_type": "stream",
     "text": [
      "\n",
      "Best AIC value for k=1 variables: 744498.6174901996\n",
      "Variables in the model: ['exper']\n",
      "Model parameters:\n",
      "const    5.997464\n",
      "exper    0.049036\n",
      "dtype: float64\n",
      "\n",
      "Best AIC value for k=2 variables: 708125.6250492265\n",
      "Variables in the model: ['exper', 'age']\n",
      "Model parameters:\n",
      "const    7.340090\n",
      "exper    0.066197\n",
      "age     -0.036907\n",
      "dtype: float64\n",
      "\n",
      "Best AIC value for k=3 variables: 653555.3560647196\n",
      "Variables in the model: ['exper', 'age', 'kidslt6']\n",
      "Model parameters:\n",
      "const      8.134844\n",
      "exper      0.064158\n",
      "age       -0.051846\n",
      "kidslt6   -0.846538\n",
      "dtype: float64\n",
      "\n",
      "Best AIC value for k=4 variables: 639269.8868831303\n",
      "Variables in the model: ['expersq', 'exper', 'age', 'kidslt6']\n",
      "Model parameters:\n",
      "const      7.513553\n",
      "expersq   -0.001812\n",
      "exper      0.122583\n",
      "age       -0.045117\n",
      "kidslt6   -0.793601\n",
      "dtype: float64\n",
      "\n",
      "Best AIC value for k=5 variables: 634410.2632771938\n",
      "Variables in the model: ['expersq', 'exper', 'educ', 'age', 'kidslt6']\n",
      "Model parameters:\n",
      "const      6.970329\n",
      "expersq   -0.001774\n",
      "exper      0.120684\n",
      "educ       0.042226\n",
      "age       -0.044275\n",
      "kidslt6   -0.811135\n",
      "dtype: float64\n",
      "\n",
      "Best AIC value for k=6 variables: 631278.241825255\n",
      "Variables in the model: ['expersq', 'exper', 'huswage', 'educ', 'age', 'kidslt6']\n",
      "Model parameters:\n",
      "const      6.936480\n",
      "expersq   -0.001829\n",
      "exper      0.120372\n",
      "huswage   -0.020714\n",
      "educ       0.052831\n",
      "age       -0.042680\n",
      "kidslt6   -0.807524\n",
      "dtype: float64\n",
      "\n",
      "Best AIC value for k=7 variables: 628661.4275956514\n",
      "Variables in the model: ['expersq', 'exper', 'huswage', 'hushrs', 'educ', 'age', 'kidslt6']\n",
      "Model parameters:\n",
      "const      7.230814\n",
      "expersq   -0.001794\n",
      "exper      0.118114\n",
      "huswage   -0.026952\n",
      "hushrs    -0.000124\n",
      "educ       0.057793\n",
      "age       -0.042924\n",
      "kidslt6   -0.815312\n",
      "dtype: float64\n",
      "\n",
      "Best AIC value for k=8 variables: 626758.9386570181\n",
      "Variables in the model: ['unem', 'expersq', 'exper', 'huswage', 'hushrs', 'educ', 'age', 'kidslt6']\n",
      "Model parameters:\n",
      "const      7.351924\n",
      "unem      -0.019775\n",
      "expersq   -0.001836\n",
      "exper      0.118913\n",
      "huswage   -0.025638\n",
      "hushrs    -0.000136\n",
      "educ       0.059774\n",
      "age       -0.041995\n",
      "kidslt6   -0.811565\n",
      "dtype: float64\n",
      "\n",
      "Best AIC value for k=9 variables: 625832.1260942485\n",
      "Variables in the model: ['unem', 'expersq', 'exper', 'huswage', 'hushrs', 'educ', 'age', 'kidsge6', 'kidslt6']\n",
      "Model parameters:\n",
      "const      7.492027\n",
      "unem      -0.019316\n",
      "expersq   -0.001827\n",
      "exper      0.117388\n",
      "huswage   -0.025561\n",
      "hushrs    -0.000131\n",
      "educ       0.058120\n",
      "age       -0.043663\n",
      "kidsge6   -0.035307\n",
      "kidslt6   -0.824243\n",
      "dtype: float64\n",
      "\n",
      "Best AIC value for k=10 variables: 625176.0636516893\n",
      "Variables in the model: ['unem', 'expersq', 'exper', 'motheduc', 'huswage', 'hushrs', 'educ', 'age', 'kidsge6', 'kidslt6']\n",
      "Model parameters:\n",
      "const       7.431017\n",
      "unem       -0.019136\n",
      "expersq    -0.001836\n",
      "exper       0.117897\n",
      "motheduc    0.011373\n",
      "huswage    -0.025718\n",
      "hushrs     -0.000133\n",
      "educ        0.051211\n",
      "age        -0.042745\n",
      "kidsge6    -0.035498\n",
      "kidslt6    -0.822677\n",
      "dtype: float64\n",
      "\n",
      "Best AIC value for k=11 variables: 624731.7720226073\n",
      "Variables in the model: ['unem', 'expersq', 'exper', 'motheduc', 'huswage', 'huseduc', 'hushrs', 'educ', 'age', 'kidsge6', 'kidslt6']\n",
      "Model parameters:\n",
      "const       7.454727\n",
      "unem       -0.018725\n",
      "expersq    -0.001840\n",
      "exper       0.117839\n",
      "motheduc    0.012096\n",
      "huswage    -0.022766\n",
      "huseduc    -0.012720\n",
      "hushrs     -0.000125\n",
      "educ        0.059141\n",
      "age        -0.042974\n",
      "kidsge6    -0.036542\n",
      "kidslt6    -0.819659\n",
      "dtype: float64\n",
      "\n",
      "Best AIC value for k=12 variables: 624532.3497764468\n",
      "Variables in the model: ['city', 'unem', 'expersq', 'exper', 'motheduc', 'huswage', 'huseduc', 'hushrs', 'educ', 'age', 'kidsge6', 'kidslt6']\n",
      "Model parameters:\n",
      "const       7.462437\n",
      "city        0.042751\n",
      "unem       -0.019525\n",
      "expersq    -0.001837\n",
      "exper       0.117815\n",
      "motheduc    0.012042\n",
      "huswage    -0.024076\n",
      "huseduc    -0.013749\n",
      "hushrs     -0.000123\n",
      "educ        0.059219\n",
      "age        -0.043243\n",
      "kidsge6    -0.036282\n",
      "kidslt6    -0.818489\n",
      "dtype: float64\n",
      "\n",
      "Best AIC value for k=13 variables: 624477.5595229984\n",
      "Variables in the model: ['city', 'unem', 'expersq', 'exper', 'fatheduc', 'motheduc', 'huswage', 'huseduc', 'hushrs', 'educ', 'age', 'kidsge6', 'kidslt6']\n",
      "Model parameters:\n",
      "const       7.462458\n",
      "city        0.045172\n",
      "unem       -0.019463\n",
      "expersq    -0.001838\n",
      "exper       0.117729\n",
      "fatheduc   -0.003659\n",
      "motheduc    0.013728\n",
      "huswage    -0.024136\n",
      "huseduc    -0.013512\n",
      "hushrs     -0.000123\n",
      "educ        0.060386\n",
      "age        -0.043270\n",
      "kidsge6    -0.036885\n",
      "kidslt6    -0.818034\n",
      "dtype: float64\n"
     ]
    }
   ],
   "source": [
    "#Best Subsets Poisson Regression:\n",
    "def get_combinations(arr, k):\n",
    "    if k == 0:\n",
    "        return [[]]\n",
    "    if arr.empty: \n",
    "        return []\n",
    "    return get_combinations(arr[1:], k) + [x + [arr[0]] for x in get_combinations(arr[1:], k-1)]\n",
    "#The above function returns a list of all possible 'k'-sized combinations from 'arr'. \n",
    "#print(get_combinations(['a', 'b', 'c', 'd', 'e'], 3))\n",
    "\n",
    "Y = mroz['hours']\n",
    "Xfull = mroz[['kidslt6', 'kidsge6', 'age', 'educ', 'hushrs', 'huseduc', 'huswage', \n",
    "           'motheduc', 'fatheduc', 'exper', 'expersq', 'unem', 'city']]\n",
    "\n",
    "#import statsmodels.genmod.generalized_linear_model as glm\n",
    "#glm.SET_USE_BIC_LLF(True)\n",
    "\n",
    "best_aic_per_k = {}\n",
    "\n",
    "# Looping through all possible sizes of predictor subsets\n",
    "for k in range(1, len(Xfull.columns) + 1):\n",
    "    \n",
    "    # Getting all combinations of predictors of size k without using itertools\n",
    "    best_aic_k = float(\"inf\")\n",
    "    best_model_k = None\n",
    "    best_variables_k = None\n",
    "    \n",
    "    for variables in get_combinations(Xfull.columns, k):\n",
    "        predictors = Xfull[list(variables)]\n",
    "        predictors = sm.add_constant(predictors)  # Add a constant (intercept) to the model\n",
    "        \n",
    "        # Fitting the model\n",
    "        model = sm.GLM(Y, predictors, family=sm.families.Poisson()).fit()\n",
    "        \n",
    "        # Updating best AIC model for each k\n",
    "        if model.aic < best_aic_k:\n",
    "            best_aic_k = model.aic\n",
    "            best_model_k = model\n",
    "            best_variables_k = variables  # Storing variable names\n",
    "    \n",
    "    # Storing the best AIC and variable names for each k in the dictionary\n",
    "    best_aic_per_k[k] = (best_aic_k, best_model_k, best_variables_k)\n",
    "\n",
    "# Displaying the results\n",
    "for k, (aic, model, variables) in best_aic_per_k.items():\n",
    "    print(f\"\\nBest AIC value for k={k} variables: {aic}\")\n",
    "    print(f\"Variables in the model: {variables}\")\n",
    "    print(f\"Model parameters:\\n{model.params}\")"
   ]
  },
  {
   "cell_type": "code",
   "execution_count": 15,
   "id": "6fae823c-856d-4007-98b1-be37e717f4a6",
   "metadata": {},
   "outputs": [
    {
     "name": "stdout",
     "output_type": "stream",
     "text": [
      "\n",
      "Best BIC value for k=1 variables: 744507.8656206552\n",
      "Variables in the model: ['exper']\n",
      "Model parameters:\n",
      "const    5.997464\n",
      "exper    0.049036\n",
      "dtype: float64\n",
      "\n",
      "Best BIC value for k=2 variables: 708139.4972449099\n",
      "Variables in the model: ['exper', 'age']\n",
      "Model parameters:\n",
      "const    7.340090\n",
      "exper    0.066197\n",
      "age     -0.036907\n",
      "dtype: float64\n",
      "\n",
      "Best BIC value for k=3 variables: 653573.8523256308\n",
      "Variables in the model: ['exper', 'age', 'kidslt6']\n",
      "Model parameters:\n",
      "const      8.134844\n",
      "exper      0.064158\n",
      "age       -0.051846\n",
      "kidslt6   -0.846538\n",
      "dtype: float64\n",
      "\n",
      "Best BIC value for k=4 variables: 639293.0072092693\n",
      "Variables in the model: ['expersq', 'exper', 'age', 'kidslt6']\n",
      "Model parameters:\n",
      "const      7.513553\n",
      "expersq   -0.001812\n",
      "exper      0.122583\n",
      "age       -0.045117\n",
      "kidslt6   -0.793601\n",
      "dtype: float64\n",
      "\n",
      "Best BIC value for k=5 variables: 634438.0076685606\n",
      "Variables in the model: ['expersq', 'exper', 'educ', 'age', 'kidslt6']\n",
      "Model parameters:\n",
      "const      6.970329\n",
      "expersq   -0.001774\n",
      "exper      0.120684\n",
      "educ       0.042226\n",
      "age       -0.044275\n",
      "kidslt6   -0.811135\n",
      "dtype: float64\n",
      "\n",
      "Best BIC value for k=6 variables: 631310.6102818496\n",
      "Variables in the model: ['expersq', 'exper', 'huswage', 'educ', 'age', 'kidslt6']\n",
      "Model parameters:\n",
      "const      6.936480\n",
      "expersq   -0.001829\n",
      "exper      0.120372\n",
      "huswage   -0.020714\n",
      "educ       0.052831\n",
      "age       -0.042680\n",
      "kidslt6   -0.807524\n",
      "dtype: float64\n",
      "\n",
      "Best BIC value for k=7 variables: 628698.4201174738\n",
      "Variables in the model: ['expersq', 'exper', 'huswage', 'hushrs', 'educ', 'age', 'kidslt6']\n",
      "Model parameters:\n",
      "const      7.230814\n",
      "expersq   -0.001794\n",
      "exper      0.118114\n",
      "huswage   -0.026952\n",
      "hushrs    -0.000124\n",
      "educ       0.057793\n",
      "age       -0.042924\n",
      "kidslt6   -0.815312\n",
      "dtype: float64\n",
      "\n",
      "Best BIC value for k=8 variables: 626800.5552440683\n",
      "Variables in the model: ['unem', 'expersq', 'exper', 'huswage', 'hushrs', 'educ', 'age', 'kidslt6']\n",
      "Model parameters:\n",
      "const      7.351924\n",
      "unem      -0.019775\n",
      "expersq   -0.001836\n",
      "exper      0.118913\n",
      "huswage   -0.025638\n",
      "hushrs    -0.000136\n",
      "educ       0.059774\n",
      "age       -0.041995\n",
      "kidslt6   -0.811565\n",
      "dtype: float64\n",
      "\n",
      "Best BIC value for k=9 variables: 625878.3667465264\n",
      "Variables in the model: ['unem', 'expersq', 'exper', 'huswage', 'hushrs', 'educ', 'age', 'kidsge6', 'kidslt6']\n",
      "Model parameters:\n",
      "const      7.492027\n",
      "unem      -0.019316\n",
      "expersq   -0.001827\n",
      "exper      0.117388\n",
      "huswage   -0.025561\n",
      "hushrs    -0.000131\n",
      "educ       0.058120\n",
      "age       -0.043663\n",
      "kidsge6   -0.035307\n",
      "kidslt6   -0.824243\n",
      "dtype: float64\n",
      "\n",
      "Best BIC value for k=10 variables: 625226.9283691951\n",
      "Variables in the model: ['unem', 'expersq', 'exper', 'motheduc', 'huswage', 'hushrs', 'educ', 'age', 'kidsge6', 'kidslt6']\n",
      "Model parameters:\n",
      "const       7.431017\n",
      "unem       -0.019136\n",
      "expersq    -0.001836\n",
      "exper       0.117897\n",
      "motheduc    0.011373\n",
      "huswage    -0.025718\n",
      "hushrs     -0.000133\n",
      "educ        0.051211\n",
      "age        -0.042745\n",
      "kidsge6    -0.035498\n",
      "kidslt6    -0.822677\n",
      "dtype: float64\n",
      "\n",
      "Best BIC value for k=11 variables: 624787.2608053408\n",
      "Variables in the model: ['unem', 'expersq', 'exper', 'motheduc', 'huswage', 'huseduc', 'hushrs', 'educ', 'age', 'kidsge6', 'kidslt6']\n",
      "Model parameters:\n",
      "const       7.454727\n",
      "unem       -0.018725\n",
      "expersq    -0.001840\n",
      "exper       0.117839\n",
      "motheduc    0.012096\n",
      "huswage    -0.022766\n",
      "huseduc    -0.012720\n",
      "hushrs     -0.000125\n",
      "educ        0.059141\n",
      "age        -0.042974\n",
      "kidsge6    -0.036542\n",
      "kidslt6    -0.819659\n",
      "dtype: float64\n",
      "\n",
      "Best BIC value for k=12 variables: 624592.4626244082\n",
      "Variables in the model: ['city', 'unem', 'expersq', 'exper', 'motheduc', 'huswage', 'huseduc', 'hushrs', 'educ', 'age', 'kidsge6', 'kidslt6']\n",
      "Model parameters:\n",
      "const       7.462437\n",
      "city        0.042751\n",
      "unem       -0.019525\n",
      "expersq    -0.001837\n",
      "exper       0.117815\n",
      "motheduc    0.012042\n",
      "huswage    -0.024076\n",
      "huseduc    -0.013749\n",
      "hushrs     -0.000123\n",
      "educ        0.059219\n",
      "age        -0.043243\n",
      "kidsge6    -0.036282\n",
      "kidslt6    -0.818489\n",
      "dtype: float64\n",
      "\n",
      "Best BIC value for k=13 variables: 624542.2964361876\n",
      "Variables in the model: ['city', 'unem', 'expersq', 'exper', 'fatheduc', 'motheduc', 'huswage', 'huseduc', 'hushrs', 'educ', 'age', 'kidsge6', 'kidslt6']\n",
      "Model parameters:\n",
      "const       7.462458\n",
      "city        0.045172\n",
      "unem       -0.019463\n",
      "expersq    -0.001838\n",
      "exper       0.117729\n",
      "fatheduc   -0.003659\n",
      "motheduc    0.013728\n",
      "huswage    -0.024136\n",
      "huseduc    -0.013512\n",
      "hushrs     -0.000123\n",
      "educ        0.060386\n",
      "age        -0.043270\n",
      "kidsge6    -0.036885\n",
      "kidslt6    -0.818034\n",
      "dtype: float64\n"
     ]
    }
   ],
   "source": [
    "import statsmodels.genmod.generalized_linear_model as glm\n",
    "glm.SET_USE_BIC_LLF(True) #this silences the warnings for BIC\n",
    "\n",
    "#Best BIC Model:\n",
    "best_bic_per_k = {}\n",
    "\n",
    "# Looping through all possible sizes of predictor subsets\n",
    "for k in range(1, len(Xfull.columns) + 1):\n",
    "    \n",
    "    best_bic_k = float(\"inf\")\n",
    "    best_model_k = None\n",
    "    best_variables_k = None\n",
    "    \n",
    "    for variables in get_combinations(Xfull.columns, k):\n",
    "        predictors = Xfull[list(variables)]\n",
    "        predictors = sm.add_constant(predictors)  # Add a constant (intercept) to the model\n",
    "        \n",
    "        # Fitting the model\n",
    "        model = sm.GLM(Y, predictors, family=sm.families.Poisson()).fit()\n",
    "        \n",
    "        # Updating best BIC model for each k\n",
    "        if model.bic < best_bic_k:  # Using BIC instead of AIC here\n",
    "            best_bic_k = model.bic  # Updating BIC value\n",
    "            best_model_k = model\n",
    "            best_variables_k = variables  # Storing variable names\n",
    "    \n",
    "    # Storing the best BIC and variable names for each k in the dictionary\n",
    "    best_bic_per_k[k] = (best_bic_k, best_model_k, best_variables_k)\n",
    "\n",
    "# Displaying the results\n",
    "for k, (bic, model, variables) in best_bic_per_k.items():\n",
    "    print(f\"\\nBest BIC value for k={k} variables: {bic}\")\n",
    "    print(f\"Variables in the model: {variables}\")\n",
    "    print(f\"Model parameters:\\n{model.params}\")"
   ]
  },
  {
   "cell_type": "code",
   "execution_count": 16,
   "id": "81c92042-ef8a-4c92-85b9-cc3ac6238458",
   "metadata": {},
   "outputs": [
    {
     "data": {
      "text/plain": [
       "(753, 22)"
      ]
     },
     "execution_count": 16,
     "metadata": {},
     "output_type": "execute_result"
    }
   ],
   "source": [
    "mroz.shape"
   ]
  },
  {
   "cell_type": "code",
   "execution_count": 17,
   "id": "e92ae2fc-4333-40fb-a3bd-848ed46d5862",
   "metadata": {},
   "outputs": [
    {
     "name": "stdout",
     "output_type": "stream",
     "text": [
      "                 Generalized Linear Model Regression Results                  \n",
      "==============================================================================\n",
      "Dep. Variable:                  hours   No. Observations:                  753\n",
      "Model:                            GLM   Df Residuals:                      746\n",
      "Model Family:                 Poisson   Df Model:                            6\n",
      "Link Function:                    Log   Scale:                          1.0000\n",
      "Method:                          IRLS   Log-Likelihood:            -3.1563e+05\n",
      "Date:                Tue, 03 Oct 2023   Deviance:                   6.2754e+05\n",
      "Time:                        22:02:38   Pearson chi2:                 6.60e+05\n",
      "No. Iterations:                     5   Pseudo R-squ. (CS):              1.000\n",
      "Covariance Type:            nonrobust                                         \n",
      "==============================================================================\n",
      "                 coef    std err          z      P>|z|      [0.025      0.975]\n",
      "------------------------------------------------------------------------------\n",
      "const          6.9365      0.012    562.281      0.000       6.912       6.961\n",
      "kidslt6       -0.8075      0.004   -193.217      0.000      -0.816      -0.799\n",
      "age           -0.0427      0.000   -201.166      0.000      -0.043      -0.042\n",
      "educ           0.0528      0.001     83.439      0.000       0.052       0.054\n",
      "huswage       -0.0207      0.000    -54.548      0.000      -0.021      -0.020\n",
      "exper          0.1204      0.001    219.231      0.000       0.119       0.121\n",
      "expersq       -0.0018   1.63e-05   -112.090      0.000      -0.002      -0.002\n",
      "==============================================================================\n",
      "['__class__', '__delattr__', '__dict__', '__dir__', '__doc__', '__eq__', '__format__', '__ge__', '__getattribute__', '__getstate__', '__gt__', '__hash__', '__init__', '__init_subclass__', '__le__', '__lt__', '__module__', '__ne__', '__new__', '__reduce__', '__reduce_ex__', '__repr__', '__setattr__', '__sizeof__', '__str__', '__subclasshook__', '__weakref__', '_cache', '_data_attr', '_data_attr_model', '_data_in_cache', '_endog', '_freq_weights', '_get_robustcov_results', '_get_wald_nonlinear', '_iweights', '_n_trials', '_transform_predict_exog', '_use_t', '_var_weights', 'aic', 'bic', 'bic_deviance', 'bic_llf', 'bse', 'conf_int', 'converged', 'cov_kwds', 'cov_params', 'cov_type', 'deviance', 'df_model', 'df_resid', 'f_test', 'family', 'fit_history', 'fittedvalues', 'get_distribution', 'get_hat_matrix_diag', 'get_influence', 'get_prediction', 'info_criteria', 'initialize', 'k_constant', 'llf', 'llf_scaled', 'llnull', 'load', 'method', 'mle_settings', 'model', 'mu', 'nobs', 'normalized_cov_params', 'null', 'null_deviance', 'params', 'pearson_chi2', 'plot_added_variable', 'plot_ceres_residuals', 'plot_partial_residuals', 'predict', 'pseudo_rsquared', 'pvalues', 'remove_data', 'resid_anscombe', 'resid_anscombe_scaled', 'resid_anscombe_unscaled', 'resid_deviance', 'resid_pearson', 'resid_response', 'resid_working', 'save', 'scale', 'score_test', 'summary', 'summary2', 't_test', 't_test_pairwise', 'tvalues', 'use_t', 'wald_test', 'wald_test_terms']\n"
     ]
    }
   ],
   "source": [
    "#Plotting the fitted values against the response: \n",
    "Y = mroz['hours']\n",
    "X = mroz[['kidslt6', 'age', 'educ', \n",
    "        'huswage', 'exper', 'expersq']].copy()\n",
    "X = sm.add_constant(X) # Add a constant (intercept) to the model\n",
    "# Fit the Poisson regression model\n",
    "poiregmodel = sm.GLM(Y, X, family=sm.families.Poisson()).fit()\n",
    "print(poiregmodel.summary())\n",
    "print(dir(poiregmodel))"
   ]
  },
  {
   "cell_type": "code",
   "execution_count": 18,
   "id": "04f8ea03-2293-477f-9f85-17ee2280e984",
   "metadata": {},
   "outputs": [
    {
     "name": "stdout",
     "output_type": "stream",
     "text": [
      "0      765.488164\n",
      "1      789.438938\n",
      "2      727.125304\n",
      "3      814.320429\n",
      "4      442.021498\n",
      "          ...    \n",
      "748    533.872877\n",
      "749    350.154433\n",
      "750    475.726717\n",
      "751    466.893617\n",
      "752    900.034415\n",
      "Length: 753, dtype: float64\n"
     ]
    },
    {
     "data": {
      "image/png": "[encoded data removed]",
      "text/plain": [
       "<Figure size 640x480 with 1 Axes>"
      ]
     },
     "metadata": {},
     "output_type": "display_data"
    }
   ],
   "source": [
    "import matplotlib.pyplot as plt\n",
    "poireg_fitted_values = poiregmodel.fittedvalues\n",
    "print(poireg_fitted_values)\n",
    "plt.scatter(poireg_fitted_values, Y, alpha = 1, s = 20)\n",
    "plt.xlabel('Fitted Values')\n",
    "plt.ylabel('Observed Response')\n",
    "plt.title('Fitted vs Observed Values')\n",
    "plt.show()"
   ]
  },
  {
   "cell_type": "code",
   "execution_count": 19,
   "id": "83556a4e-ee20-47d7-91c7-1b1dcdb6806f",
   "metadata": {},
   "outputs": [
    {
     "name": "stdout",
     "output_type": "stream",
     "text": [
      "     hours  kidslt6  age  educ  huswage  exper  expersq\n",
      "34    2081        0   45    16   7.5449     27      729\n",
      "157   2090        0   43    16   9.5480     25      625\n",
      "162    160        0   34    14  11.6850     19      361\n",
      "279    846        0   43    14   3.2788     25      625\n",
      "299   1688        0   32    17   9.5545     15      225\n",
      "34     2042.464692\n",
      "157    2028.810563\n",
      "162    2018.081739\n",
      "279    2078.500942\n",
      "299    2132.558296\n",
      "dtype: float64\n",
      "const      6.936480\n",
      "kidslt6   -0.807524\n",
      "age       -0.042680\n",
      "educ       0.052831\n",
      "huswage   -0.020714\n",
      "exper      0.120372\n",
      "expersq   -0.001829\n",
      "dtype: float64\n",
      "2132.55829618613\n"
     ]
    }
   ],
   "source": [
    "#Let us find observations where Y = 0 and fitted values > 1500:\n",
    "#condition = (Y > 3500) & (poireg_fitted_values > 1000)\n",
    "#condition = (Y > 3500)\n",
    "#condition = (Y == 0) & (poireg_fitted_values < 115)\n",
    "condition = (poireg_fitted_values > 2000)\n",
    "print(mroz.loc[condition, ['hours', 'kidslt6', 'age', 'educ', 'huswage', 'exper', 'expersq']])\n",
    "print(poireg_fitted_values[condition])\n",
    "print(poiregmodel.params)\n",
    "print(np.max(poireg_fitted_values))"
   ]
  },
  {
   "cell_type": "code",
   "execution_count": 20,
   "id": "f96b9581-63d8-468b-958e-c5ae46c60da2",
   "metadata": {},
   "outputs": [
    {
     "name": "stdout",
     "output_type": "stream",
     "text": [
      "483     45.581963\n",
      "604     52.946998\n",
      "530     60.616688\n",
      "714     66.299551\n",
      "620     93.241069\n",
      "688     93.947389\n",
      "640    102.860105\n",
      "585    109.168608\n",
      "561    111.126577\n",
      "676    112.279641\n",
      "dtype: float64\n"
     ]
    }
   ],
   "source": [
    "#Smallest fitted values\n",
    "indices_of_smallest = np.argsort(poireg_fitted_values)[:10]\n",
    "print(poireg_fitted_values[indices_of_smallest])"
   ]
  },
  {
   "cell_type": "code",
   "execution_count": 21,
   "id": "21ecf3af-4996-47af-9451-6e51c260d053",
   "metadata": {},
   "outputs": [
    {
     "name": "stdout",
     "output_type": "stream",
     "text": [
      "hours       0.000\n",
      "kidslt6     3.000\n",
      "age        31.000\n",
      "educ       13.000\n",
      "huswage    19.444\n",
      "exper       3.000\n",
      "expersq     9.000\n",
      "Name: 483, dtype: float64\n",
      "const      6.936480\n",
      "kidslt6   -0.807524\n",
      "age       -0.042680\n",
      "educ       0.052831\n",
      "huswage   -0.020714\n",
      "exper      0.120372\n",
      "expersq   -0.001829\n",
      "dtype: float64\n"
     ]
    },
    {
     "data": {
      "text/plain": [
       "[3.8195120956547557, 45.58196325662061]"
      ]
     },
     "metadata": {},
     "output_type": "display_data"
    }
   ],
   "source": [
    "coef = poiregmodel.params.values\n",
    "row = 483\n",
    "print(mroz.loc[row, ['hours', 'kidslt6', 'age', 'educ', 'huswage', 'exper', 'expersq']])\n",
    "print(poiregmodel.params)\n",
    "lincom = coef[0] + coef[1]*mroz.loc[row, 'kidslt6'] + coef[2]*mroz.loc[row, 'age'] + coef[3]*mroz.loc[row, 'educ'] + coef[4]*mroz.loc[row, 'huswage'] + coef[5]*mroz.loc[row, 'exper'] + coef[6]*mroz.loc[row, 'expersq']\n",
    "display([lincom, np.exp(lincom)])"
   ]
  },
  {
   "cell_type": "code",
   "execution_count": 22,
   "id": "122cacd6-b1db-4435-ba38-363e2d77ebf1",
   "metadata": {},
   "outputs": [
    {
     "data": {
      "text/plain": [
       "6.936479701777115"
      ]
     },
     "metadata": {},
     "output_type": "display_data"
    },
    {
     "data": {
      "text/plain": [
       "-2.422572046826709"
      ]
     },
     "metadata": {},
     "output_type": "display_data"
    },
    {
     "data": {
      "text/plain": [
       "-1.32309549021774"
      ]
     },
     "metadata": {},
     "output_type": "display_data"
    },
    {
     "data": {
      "text/plain": [
       "0.6867972840685818"
      ]
     },
     "metadata": {},
     "output_type": "display_data"
    },
    {
     "data": {
      "text/plain": [
       "-0.40275727163651026"
      ]
     },
     "metadata": {},
     "output_type": "display_data"
    },
    {
     "data": {
      "text/plain": [
       "0.36111672516817395"
      ]
     },
     "metadata": {},
     "output_type": "display_data"
    },
    {
     "data": {
      "text/plain": [
       "-0.01645680667815629"
      ]
     },
     "metadata": {},
     "output_type": "display_data"
    }
   ],
   "source": [
    "row = 483\n",
    "display(coef[0], coef[1]*mroz.loc[row, 'kidslt6'], coef[2]*mroz.loc[row, 'age'], coef[3]*mroz.loc[row, 'educ'], coef[4]*mroz.loc[row, 'huswage'], coef[5]*mroz.loc[row, 'exper'], coef[6]*mroz.loc[row, 'expersq'])\n"
   ]
  },
  {
   "cell_type": "code",
   "execution_count": 23,
   "id": "128abd32-0c45-4721-8889-e8bc0e54723a",
   "metadata": {},
   "outputs": [
    {
     "data": {
      "text/plain": [
       "45.58196325662061"
      ]
     },
     "metadata": {},
     "output_type": "display_data"
    },
    {
     "data": {
      "text/plain": [
       "2132.55829618613"
      ]
     },
     "metadata": {},
     "output_type": "display_data"
    },
    {
     "data": {
      "text/plain": [
       "0"
      ]
     },
     "metadata": {},
     "output_type": "display_data"
    },
    {
     "data": {
      "text/plain": [
       "4950"
      ]
     },
     "metadata": {},
     "output_type": "display_data"
    }
   ],
   "source": [
    "display(np.min(poireg_fitted_values), np.max(poireg_fitted_values))\n",
    "display(np.min(Y), np.max(Y))"
   ]
  },
  {
   "cell_type": "code",
   "execution_count": 24,
   "id": "5a13cb27-6e53-41bb-a011-59b1780fb052",
   "metadata": {},
   "outputs": [
    {
     "name": "stdout",
     "output_type": "stream",
     "text": [
      "                const       kidslt6           age          educ       huswage  \\\n",
      "const    1.521851e-04 -1.094065e-05 -1.890439e-06 -4.802901e-06  1.794310e-07   \n",
      "kidslt6 -1.094065e-05  1.746699e-05  2.218647e-07 -1.421124e-07 -2.502671e-08   \n",
      "age     -1.890439e-06  2.218647e-07  4.501405e-08  1.130163e-08 -1.009965e-08   \n",
      "educ    -4.802901e-06 -1.421124e-07  1.130163e-08  4.008993e-07 -7.051506e-08   \n",
      "huswage  1.794310e-07 -2.502671e-08 -1.009965e-08 -7.051506e-08  1.441951e-07   \n",
      "exper   -2.275008e-06  2.447391e-07  9.708493e-09 -1.707776e-08  2.029966e-09   \n",
      "expersq  8.169060e-08 -6.410297e-09 -8.849655e-10  1.469846e-10  3.559604e-10   \n",
      "\n",
      "                exper       expersq  \n",
      "const   -2.275008e-06  8.169060e-08  \n",
      "kidslt6  2.447391e-07 -6.410297e-09  \n",
      "age      9.708493e-09 -8.849655e-10  \n",
      "educ    -1.707776e-08  1.469846e-10  \n",
      "huswage  2.029966e-09  3.559604e-10  \n",
      "exper    3.014745e-07 -8.400485e-09  \n",
      "expersq -8.400485e-09  2.661157e-10  \n",
      "[[1.23363311e-02 1.23363311e-02]\n",
      " [4.17935286e-03 4.17935286e-03]\n",
      " [2.12165156e-04 2.12165156e-04]\n",
      " [6.33166067e-04 6.33166067e-04]\n",
      " [3.79730294e-04 3.79730294e-04]\n",
      " [5.49066970e-04 5.49066970e-04]\n",
      " [1.63130527e-05 1.63130527e-05]]\n",
      "[[ 1.52185070e-04 -1.09406532e-05 -1.89043951e-06 -4.80290153e-06\n",
      "   1.79431046e-07 -2.27500844e-06  8.16905999e-08]\n",
      " [-1.09406532e-05  1.74669961e-05  2.21864692e-07 -1.42112412e-07\n",
      "  -2.50267180e-08  2.44739159e-07 -6.41029810e-09]\n",
      " [-1.89043951e-06  2.21864692e-07  4.50140545e-08  1.13016300e-08\n",
      "  -1.00996487e-08  9.70849310e-09 -8.84965506e-10]\n",
      " [-4.80290153e-06 -1.42112412e-07  1.13016300e-08  4.00899280e-07\n",
      "  -7.05150573e-08 -1.70777559e-08  1.46984555e-10]\n",
      " [ 1.79431046e-07 -2.50267180e-08 -1.00996487e-08 -7.05150573e-08\n",
      "   1.44195100e-07  2.02996543e-09  3.55960395e-10]\n",
      " [-2.27500844e-06  2.44739159e-07  9.70849310e-09 -1.70777559e-08\n",
      "   2.02996543e-09  3.01474552e-07 -8.40048540e-09]\n",
      " [ 8.16905999e-08 -6.41029810e-09 -8.84965506e-10  1.46984555e-10\n",
      "   3.55960395e-10 -8.40048540e-09  2.66115699e-10]]\n"
     ]
    }
   ],
   "source": [
    "#Posterior Predictive Distributions:\n",
    "#First obtain posterior samples:\n",
    "cov_matrix = poiregmodel.cov_params()\n",
    "print(cov_matrix)\n",
    "print(np.column_stack((np.sqrt(np.diag(cov_matrix)), poiregmodel.bse)))\n",
    "#Manual computation of covariance matrix:\n",
    "beta_hat = poiregmodel.params.values \n",
    "log_muvec = np.dot(X, beta_hat)\n",
    "muvec = np.exp(log_muvec)\n",
    "M = np.diag(muvec)\n",
    "Hessian = -X.T @ M @ X\n",
    "Hessian_inv = np.linalg.inv(Hessian)\n",
    "CovMat = -Hessian_inv\n",
    "print(CovMat) #this coincides with poiregmodel.cov_params()"
   ]
  },
  {
   "cell_type": "code",
   "execution_count": 25,
   "id": "b29c08a2-d972-40b8-bb4b-57d71962e3bf",
   "metadata": {},
   "outputs": [
    {
     "name": "stdout",
     "output_type": "stream",
     "text": [
      "(1000, 7)\n",
      "[[ 6.93952684e+00 -8.04945607e-01 -4.28347447e-02  5.26973193e-02\n",
      "  -2.09351084e-02  1.20815221e-01 -1.83721826e-03]\n",
      " [ 6.92196936e+00 -8.22301423e-01 -4.27467573e-02  5.42247998e-02\n",
      "  -2.02284436e-02  1.20043807e-01 -1.82058706e-03]\n",
      " [ 6.93616036e+00 -8.02914740e-01 -4.24837881e-02  5.17888914e-02\n",
      "  -2.03845306e-02  1.20729540e-01 -1.83456066e-03]\n",
      " [ 6.92812731e+00 -8.06191201e-01 -4.25954164e-02  5.32618862e-02\n",
      "  -2.12364615e-02  1.20712394e-01 -1.83733173e-03]\n",
      " [ 6.94466164e+00 -8.09257775e-01 -4.27106642e-02  5.19942333e-02\n",
      "  -1.99827873e-02  1.20206557e-01 -1.82448973e-03]\n",
      " [ 6.94971167e+00 -8.04869661e-01 -4.27924913e-02  5.25917522e-02\n",
      "  -2.04780022e-02  1.19359372e-01 -1.79987286e-03]\n",
      " [ 6.95580723e+00 -8.08911347e-01 -4.27200505e-02  5.16082153e-02\n",
      "  -2.06567645e-02  1.20176157e-01 -1.82449542e-03]\n",
      " [ 6.93015227e+00 -8.05906129e-01 -4.27957125e-02  5.32181405e-02\n",
      "  -2.06905069e-02  1.21308618e-01 -1.85043876e-03]\n",
      " [ 6.95116196e+00 -8.06428400e-01 -4.31040471e-02  5.25236306e-02\n",
      "  -2.03230075e-02  1.20897293e-01 -1.83660650e-03]\n",
      " [ 6.93779566e+00 -8.07292585e-01 -4.27543097e-02  5.25907626e-02\n",
      "  -2.09202236e-02  1.21230516e-01 -1.85282835e-03]]\n"
     ]
    }
   ],
   "source": [
    "#Generating posterior beta samples:\n",
    "n_samples = 1000\n",
    "beta_samples = np.random.multivariate_normal(beta_hat, cov_matrix, n_samples)\n",
    "print(beta_samples.shape)\n",
    "print(beta_samples[:10])"
   ]
  },
  {
   "cell_type": "code",
   "execution_count": 26,
   "id": "8427544c-c83d-43c1-a4f8-15d58cc072d9",
   "metadata": {},
   "outputs": [
    {
     "name": "stdout",
     "output_type": "stream",
     "text": [
      "hours       0.000\n",
      "kidslt6     3.000\n",
      "age        31.000\n",
      "educ       13.000\n",
      "huswage    19.444\n",
      "exper       3.000\n",
      "expersq     9.000\n",
      "Name: 483, dtype: float64\n",
      "45.58196325662061\n",
      "26.0     2\n",
      "28.0     4\n",
      "29.0     2\n",
      "30.0     1\n",
      "31.0     5\n",
      "32.0     3\n",
      "33.0    11\n",
      "34.0    15\n",
      "35.0    27\n",
      "36.0    19\n",
      "37.0    38\n",
      "38.0    32\n",
      "39.0    39\n",
      "40.0    54\n",
      "41.0    49\n",
      "42.0    48\n",
      "43.0    52\n",
      "44.0    50\n",
      "45.0    47\n",
      "46.0    53\n",
      "47.0    70\n",
      "48.0    49\n",
      "49.0    44\n",
      "50.0    39\n",
      "51.0    58\n",
      "52.0    28\n",
      "53.0    33\n",
      "54.0    30\n",
      "55.0    13\n",
      "56.0    15\n",
      "57.0    18\n",
      "58.0    16\n",
      "59.0     6\n",
      "60.0     7\n",
      "61.0     3\n",
      "62.0     9\n",
      "63.0     4\n",
      "64.0     3\n",
      "65.0     3\n",
      "66.0     1\n",
      "Name: count, dtype: int64\n"
     ]
    }
   ],
   "source": [
    "#Generating posterior response values for fixed covariates:\n",
    "row = 483\n",
    "#row = 291\n",
    "#row = 34\n",
    "print(mroz.loc[row, ['hours', 'kidslt6', 'age', 'educ', 'huswage', 'exper', 'expersq']])\n",
    "print(poireg_fitted_values[row])\n",
    "poisson_pred_Y_row = np.zeros(n_samples)\n",
    "for i in range(n_samples):\n",
    "    poisson_mean = np.exp(np.dot(beta_samples[i], X.iloc[row]))\n",
    "    poisson_pred_Y_row[i] = np.random.poisson(poisson_mean)\n",
    "counts = pd.value_counts(poisson_pred_Y_row).sort_index()\n",
    "print(counts)"
   ]
  },
  {
   "cell_type": "code",
   "execution_count": 27,
   "id": "b632f028-059f-4984-93b9-b207b7d89faf",
   "metadata": {},
   "outputs": [
    {
     "data": {
      "image/png": "[encoded data removed]",
      "text/plain": [
       "<Figure size 800x600 with 1 Axes>"
      ]
     },
     "metadata": {},
     "output_type": "display_data"
    }
   ],
   "source": [
    "plt.figure(figsize = (8, 6))\n",
    "plt.bar(counts.index, counts.values, color='skyblue')\n",
    "plt.xlabel('Value')\n",
    "plt.ylabel('Count')\n",
    "plt.title('Counts of Unique Values in poisson_rvs')\n",
    "plt.xticks(counts.index)\n",
    "plt.grid(axis='y')\n",
    "plt.show()"
   ]
  },
  {
   "cell_type": "code",
   "execution_count": 28,
   "id": "d40a992b-c133-4e7f-b4c7-20429027241d",
   "metadata": {},
   "outputs": [
    {
     "name": "stdout",
     "output_type": "stream",
     "text": [
      "                 Generalized Linear Model Regression Results                  \n",
      "==============================================================================\n",
      "Dep. Variable:                  hours   No. Observations:                  753\n",
      "Model:                            GLM   Df Residuals:                      746\n",
      "Model Family:        NegativeBinomial   Df Model:                            6\n",
      "Link Function:                    Log   Scale:                          1.0000\n",
      "Method:                          IRLS   Log-Likelihood:                -4321.2\n",
      "Date:                Tue, 03 Oct 2023   Deviance:                       795.42\n",
      "Time:                        22:02:39   Pearson chi2:                     307.\n",
      "No. Iterations:                    11   Pseudo R-squ. (CS):            0.07652\n",
      "Covariance Type:            nonrobust                                         \n",
      "==============================================================================\n",
      "                 coef    std err          z      P>|z|      [0.025      0.975]\n",
      "------------------------------------------------------------------------------\n",
      "const          7.1470      0.860      8.307      0.000       5.461       8.833\n",
      "kidslt6       -1.0348      0.206     -5.016      0.000      -1.439      -0.630\n",
      "age           -0.0551      0.014     -3.836      0.000      -0.083      -0.027\n",
      "educ           0.0743      0.045      1.640      0.101      -0.014       0.163\n",
      "huswage       -0.0374      0.024     -1.544      0.123      -0.085       0.010\n",
      "exper          0.1462      0.035      4.184      0.000       0.078       0.215\n",
      "expersq       -0.0023      0.001     -2.039      0.041      -0.005   -9.03e-05\n",
      "==============================================================================\n"
     ]
    }
   ],
   "source": [
    "#Negative Binomial Regression\n",
    "Y = mroz['hours']\n",
    "X = mroz[['kidslt6', 'age', 'educ', 'huswage', 'exper', 'expersq']].copy()\n",
    "X = sm.add_constant(X)  # Add a constant (intercept) to the model\n",
    "# Fit the Negative Binomial regression model\n",
    "#negbinom_model = sm.NegativeBinomial(Y, X).fit()\n",
    "#negbinom_model = sm.GLM(Y, X, family=sm.families.NegativeBinomial()).fit()\n",
    "#negbinom_model = sm.NegativeBinomial(Y, X).fit(start_params=None, method='newton', maxiter=35, full_output=True, disp=True, callback=None, alpha=7)\n",
    "#negbinom_model = sm.NegativeBinomial(Y, X).fit()\n",
    "negbinom_model = sm.GLM(Y, X, family=sm.families.NegativeBinomial(alpha=7)).fit()\n",
    "# Display the summary\n",
    "print(negbinom_model.summary())"
   ]
  },
  {
   "cell_type": "code",
   "execution_count": 29,
   "id": "9c73c6d7-fbcf-4970-9e8a-fcfe6a1d6d72",
   "metadata": {},
   "outputs": [
    {
     "name": "stdout",
     "output_type": "stream",
     "text": [
      "-64.46921135832466\n"
     ]
    }
   ],
   "source": [
    "print((np.exp(negbinom_model.params['kidslt6']) - 1)*100)"
   ]
  },
  {
   "cell_type": "code",
   "execution_count": 30,
   "id": "4dcdf2a6-f0cc-4883-bb77-cb4ed0282abf",
   "metadata": {},
   "outputs": [],
   "source": [
    "#help(sm.NegativeBinomial)"
   ]
  },
  {
   "cell_type": "code",
   "execution_count": 31,
   "id": "998389d2-5545-462e-87ba-af1df0c6d2d3",
   "metadata": {},
   "outputs": [
    {
     "name": "stdout",
     "output_type": "stream",
     "text": [
      "0      795.122210\n",
      "1      847.945955\n",
      "2      741.291592\n",
      "3      921.619947\n",
      "4      395.226473\n",
      "          ...    \n",
      "748    510.480217\n",
      "749    289.334497\n",
      "750    481.349820\n",
      "751    378.123822\n",
      "752    950.682165\n",
      "Length: 753, dtype: float64\n"
     ]
    },
    {
     "data": {
      "text/plain": [
       "19.915960870299376"
      ]
     },
     "metadata": {},
     "output_type": "display_data"
    },
    {
     "data": {
      "text/plain": [
       "2853.8150650368725"
      ]
     },
     "metadata": {},
     "output_type": "display_data"
    }
   ],
   "source": [
    "negbinom_fitted_values = negbinom_model.fittedvalues\n",
    "print(negbinom_fitted_values)\n",
    "display(np.min(negbinom_fitted_values), np.max(negbinom_fitted_values))"
   ]
  },
  {
   "cell_type": "code",
   "execution_count": 29,
   "id": "f0f90c11-59b0-4c79-b314-36ca9b32d1d8",
   "metadata": {},
   "outputs": [
    {
     "data": {
      "image/png": "[encoded data removed]",
      "text/plain": [
       "<Figure size 640x480 with 1 Axes>"
      ]
     },
     "metadata": {},
     "output_type": "display_data"
    },
    {
     "data": {
      "image/png": "[encoded data removed]",
      "text/plain": [
       "<Figure size 640x480 with 1 Axes>"
      ]
     },
     "metadata": {},
     "output_type": "display_data"
    }
   ],
   "source": [
    "plt.scatter(negbinom_fitted_values, Y, alpha = 1, s = 3)\n",
    "plt.scatter(poireg_fitted_values, Y, alpha = 1, s = 3, color = 'red')\n",
    "plt.xlabel('Fitted Values')\n",
    "plt.ylabel('Observed Response')\n",
    "plt.title('Fitted vs Observed Values')\n",
    "plt.show()\n",
    "#The negative binomial fits show more dispersion\n",
    "plt.scatter(negbinom_fitted_values, poireg_fitted_values, alpha = 1, s = 3)\n",
    "plt.xlabel('Negative Binomial Fitted Values')\n",
    "plt.ylabel('Poisson Fitted Values')\n",
    "x = np.linspace(min(negbinom_fitted_values), max(negbinom_fitted_values), 100)\n",
    "plt.plot(x, x, label='y=x', linestyle='--', color='black')\n",
    "plt.show()"
   ]
  },
  {
   "cell_type": "code",
   "execution_count": 30,
   "id": "24c6443f-0862-489f-83c0-cab8c50ff533",
   "metadata": {},
   "outputs": [
    {
     "name": "stdout",
     "output_type": "stream",
     "text": [
      "     hours  kidslt6  age  educ  huswage  exper  expersq\n",
      "442      0        1   36     9   7.6628      0        0\n",
      "446      0        2   44    14   9.3750     10      100\n",
      "482      0        2   33    13   7.9709      4       16\n",
      "483      0        3   31    13  19.4440      3        9\n",
      "486      0        0   55     8   6.9215      0        0\n",
      "496      0        1   42    11   4.2308      0        0\n",
      "513      0        0   53     7   1.4800      0        0\n",
      "530      0        1   51     7  10.5000      0        0\n",
      "552      0        2   30    12   8.8333      2        4\n",
      "561      0        1   47     7   6.1204      3        9\n",
      "579      0        2   36    10   7.1565      5       25\n",
      "585      0        0   57     5   3.6184      0        0\n",
      "592      0        0   52     8   8.1566      0        0\n",
      "595      0        0   52     8  16.9070      0        0\n",
      "604      0        3   37    13   5.0434      4       16\n",
      "620      0        1   46    12  12.7660      0        0\n",
      "628      0        0   56    11   9.2567      0        0\n",
      "639      0        0   53     6   1.8515      0        0\n",
      "640      0        2   35    14   8.0769      2        4\n",
      "641      0        1   36    12   8.9796      0        0\n",
      "649      0        0   60     9   2.5783      0        0\n",
      "656      0        1   41    14  11.7650      0        0\n",
      "674      0        1   41    14  10.0000      1        1\n",
      "676      0        0   58     8   7.8529      0        0\n",
      "688      0        1   48     9   6.3521      1        1\n",
      "714      0        3   31    15  16.6670      5       25\n",
      "745      0        2   39    12   2.9476      5       25\n",
      "[[ 91.0679258  135.5319994 ]\n",
      " [ 96.67609489 149.87409285]\n",
      " [ 87.77804049 132.5417937 ]\n",
      " [ 19.91596087  45.58196326]\n",
      " [ 85.92447214 130.10304535]\n",
      " [ 86.31516143 125.19535027]\n",
      " [109.15292988 150.44098152]\n",
      " [ 30.90592373  60.61668767]\n",
      " [ 71.46914051 112.7804935 ]\n",
      " [ 68.87988519 111.12657721]\n",
      " [ 69.57127568 112.29726643]\n",
      " [ 69.6857165  109.16860824]\n",
      " [ 96.78703021 144.13996406]\n",
      " [ 69.7848721  120.24503396]\n",
      " [ 27.91567772  52.94699824]\n",
      " [ 54.21390181  93.24106903]\n",
      " [ 93.12191908 139.17990061]\n",
      " [ 99.942523   141.60551895]\n",
      " [ 64.76211089 102.86010535]\n",
      " [108.33042801 154.53546904]\n",
      " [ 82.65975619 121.23352202]\n",
      " [ 85.99130527 130.97235956]\n",
      " [106.0635325  152.94673263]\n",
      " [ 70.34693151 112.27964092]\n",
      " [ 57.02917736  93.94738888]\n",
      " [ 33.0746281   66.29955069]\n",
      " [ 80.07835523 119.81525932]]\n",
      "const      7.146965\n",
      "kidslt6   -1.034771\n",
      "age       -0.055071\n",
      "educ       0.074268\n",
      "huswage   -0.037381\n",
      "exper      0.146153\n",
      "expersq   -0.002338\n",
      "dtype: float64\n"
     ]
    }
   ],
   "source": [
    "condition = (Y == 0) & (negbinom_fitted_values < 115)\n",
    "print(mroz.loc[condition, ['hours', 'kidslt6', 'age', 'educ', 'huswage', 'exper', 'expersq']])\n",
    "print(np.column_stack((negbinom_fitted_values[condition], poireg_fitted_values[condition])))\n",
    "print(negbinom_model.params)"
   ]
  },
  {
   "cell_type": "code",
   "execution_count": 31,
   "id": "f9f1ef92-8bcf-480b-9fa5-7aa43e5299db",
   "metadata": {},
   "outputs": [],
   "source": [
    "#help(sm.families.NegativeBinomial)"
   ]
  },
  {
   "cell_type": "code",
   "execution_count": 32,
   "id": "ff377af0-2bef-47e5-a74f-1f12b0cfb59b",
   "metadata": {},
   "outputs": [
    {
     "name": "stdout",
     "output_type": "stream",
     "text": [
      "            const   kidslt6       age      educ   huswage     exper   expersq\n",
      "const    0.740299 -0.055950 -0.009554 -0.024580  0.001239 -0.006172  0.000264\n",
      "kidslt6 -0.055950  0.042559  0.001176 -0.000616 -0.000136  0.000783 -0.000022\n",
      "age     -0.009554  0.001176  0.000206  0.000080 -0.000044  0.000046 -0.000004\n",
      "educ    -0.024580 -0.000616  0.000080  0.002050 -0.000330 -0.000189  0.000003\n",
      "huswage  0.001239 -0.000136 -0.000044 -0.000330  0.000586  0.000003  0.000002\n",
      "exper   -0.006172  0.000783  0.000046 -0.000189  0.000003  0.001220 -0.000037\n",
      "expersq  0.000264 -0.000022 -0.000004  0.000003  0.000002 -0.000037  0.000001\n",
      "[[0.86040628 0.86040628]\n",
      " [0.20629835 0.20629835]\n",
      " [0.0143565  0.0143565 ]\n",
      " [0.04528184 0.04528184]\n",
      " [0.02420905 0.02420905]\n",
      " [0.03493439 0.03493439]\n",
      " [0.00114664 0.00114664]]\n"
     ]
    }
   ],
   "source": [
    "#Posterior Normal Covariance\n",
    "cov_matrix = negbinom_model.cov_params()\n",
    "print(cov_matrix)\n",
    "print(np.column_stack((np.sqrt(np.diag(cov_matrix)), negbinom_model.bse)))"
   ]
  }
 ],
 "metadata": {
  "kernelspec": {
   "display_name": "Python 3 (ipykernel)",
   "language": "python",
   "name": "python3"
  },
  "language_info": {
   "codemirror_mode": {
    "name": "ipython",
    "version": 3
   },
   "file_extension": ".py",
   "mimetype": "text/x-python",
   "name": "python",
   "nbconvert_exporter": "python",
   "pygments_lexer": "ipython3",
   "version": "3.11.3"
  }
 },
 "nbformat": 4,
 "nbformat_minor": 5
}
