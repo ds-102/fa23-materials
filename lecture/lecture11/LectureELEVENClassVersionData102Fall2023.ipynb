{
 "cells": [
  {
   "cell_type": "code",
   "execution_count": null,
   "id": "9fa29390-1422-43dc-9012-0477e4321995",
   "metadata": {},
   "outputs": [],
   "source": [
    "import pandas as pd\n",
    "import numpy as np\n",
    "import matplotlib.pyplot as plt\n",
    "import pymc as pm\n",
    "import arviz as az\n",
    "#np.set_printoptions(suppress=True, formatter={'float_kind':'{:f}'.format}) #Prints in ordinary (as opposed to scientific) notation"
   ]
  },
  {
   "cell_type": "markdown",
   "id": "b3f97230-a6f8-4da0-a7dc-4faa4194dd5c",
   "metadata": {},
   "source": [
    "## Poisson Regression: Labor Force Participation Dataset\n",
    "\n",
    "We will analyze the MROZ dataset which comes from an Econometrica paper by Mroz in 1987 which gives data on a bunch of variables for married women in the year 1975. The variables in the dataset are: \n",
    "\n",
    "1. inlf: binary variable equaling 1 if the individual worked (i.e., they were 'in the labor force') in the year 1975 and 0 otherwise\n",
    "2. hours: number of hours worked in 1975\n",
    "3. kidslt6: number of kids < 6 years of age\n",
    "4. kidsge6: number of kids 6-18 years of age\n",
    "5. age: age in years\n",
    "6. educ: years of schooling\n",
    "7. wage: hourly wage in 1975\n",
    "8. repwage: reported wage at interview in 1976\n",
    "9. hushrs: hours worked by husband in 1975\n",
    "10. husage: husband's age\n",
    "11. huseduc: husband's years of schooling\n",
    "12. huswage: husband's hourly wage in 1975\n",
    "13. faminc: family income in 1975\n",
    "14. mtr: federal marginal tax rate facing woman\n",
    "15. motheduc: mother's years of schooling\n",
    "16. fatheduc: father's years of schooling\n",
    "17. unem: unemployment rate in county of residence\n",
    "18. city: =1 if live in Standard metropolitan statistical area\n",
    "19. exper: actual labor market experience\n",
    "20. nwifeinc: (faminc - wage*hours)/1000\n",
    "21. lwage: log(wage)\n",
    "22. expersq: $\\text{exper}^2$ (the square of the experience variable)"
   ]
  },
  {
   "cell_type": "code",
   "execution_count": null,
   "id": "c34fe720-4362-4bf1-bc51-8f6c0620ee40",
   "metadata": {},
   "outputs": [],
   "source": [
    "#Import the MROZ.csv dataset\n",
    "mroz = pd.read_csv(\"MROZ.csv\")\n",
    "mroz.head(12)"
   ]
  },
  {
   "cell_type": "code",
   "execution_count": null,
   "id": "2aa3dcd5-5eef-4d04-b988-4cd0dd08df47",
   "metadata": {},
   "outputs": [],
   "source": [
    "#Several regressions can be fit on this dataset. Let us fit one with\n",
    "#hours as the response variable, and\n",
    "#kidslt6, kidsge6, age, educ, exper, expersq, huswage, huseduc, hushrs, motheduc and fatheduc\n",
    "#as covariates\n",
    "import statsmodels.api as sm\n",
    "#Define the response variable and covariates\n",
    "Y = mroz['hours']\n",
    "X = mroz[['kidslt6', 'kidsge6', 'age', 'educ', \n",
    "       'hushrs',  'huseduc', 'huswage',  'motheduc',\n",
    "       'fatheduc', 'exper', 'expersq']].copy()\n",
    "#Add a constant (intercept) to the model\n",
    "X = sm.add_constant(X)\n",
    "\n",
    "#Fit the model: \n",
    "model = sm.OLS(Y, X).fit()\n",
    "print(model.summary())"
   ]
  },
  {
   "cell_type": "code",
   "execution_count": null,
   "id": "3d080f95-1965-419e-9c19-db256a14b69c",
   "metadata": {},
   "outputs": [],
   "source": [
    "#Usually one looks at the table above and drops variables for which the standard error\n",
    "#is comparable to the estimated coefficient (equivalently, the variables for which the\n",
    "#P>|t| value is large). \n",
    "#In this problem we can drop the variables motheduc, fatheduc, hushrs, huseduc and kidsge6\n",
    "#Regression with a smaller number of covariates\n",
    "#Define the response variable and covariates\n",
    "Y = mroz['hours']\n",
    "X = mroz[['kidslt6', 'age', 'educ', \n",
    "        'huswage', 'exper', 'expersq']].copy()\n",
    "X = sm.add_constant(X) #add a constant (intercept) to the model\n",
    "#Fit the model: \n",
    "linmodel = sm.OLS(Y, X).fit()\n",
    "print(linmodel.summary())"
   ]
  },
  {
   "cell_type": "code",
   "execution_count": null,
   "id": "c0625339-cbba-4c9a-bfca-ccf1c90b3024",
   "metadata": {},
   "outputs": [],
   "source": [
    "#We can also take the Bayesian Approach and use PyMC:\n",
    "import pymc as pm\n",
    "mrozmod = pm.Model()\n",
    "with mrozmod:\n",
    "    # Priors for unknown model parameters\n",
    "    b0 = pm.Flat(\"b0\")\n",
    "    b1 = pm.Flat(\"b1\")\n",
    "    b2 = pm.Flat(\"b2\")\n",
    "    b3 = pm.Flat(\"b3\")\n",
    "    b4 = pm.Flat(\"b4\")\n",
    "    b5 = pm.Flat(\"b5\")\n",
    "    b6 = pm.Flat(\"b6\")\n",
    "    log_sigma = pm.Flat(\"log_sigma\")             \n",
    "    sigma = pm.Deterministic(\"sigma\", pm.math.exp(log_sigma))\n",
    "    # Expected value of outcome\n",
    "    mu = b0 + b1 * mroz['kidslt6'] +   b2 * mroz['age'] + b3 * mroz['educ'] + b4 * mroz['huswage'] + b5 * mroz['exper'] + b6 * mroz['expersq']\n",
    "    # Likelihood\n",
    "    Y_obs = pm.Normal(\"Y_obs\", mu=mu, sigma=sigma, observed=mroz['hours'])\n",
    "    idata = pm.sample(2000, chains = 2, return_inferencedata = True)  "
   ]
  },
  {
   "cell_type": "code",
   "execution_count": null,
   "id": "360148c8-d39d-48e6-bf73-8d9670193339",
   "metadata": {},
   "outputs": [],
   "source": [
    "b0_samples = idata.posterior['b0'].values.flatten()\n",
    "b1_samples = idata.posterior['b1'].values.flatten()\n",
    "b2_samples = idata.posterior['b2'].values.flatten()\n",
    "b3_samples = idata.posterior['b3'].values.flatten()\n",
    "b4_samples = idata.posterior['b4'].values.flatten()\n",
    "b5_samples = idata.posterior['b5'].values.flatten()\n",
    "b6_samples = idata.posterior['b6'].values.flatten()\n",
    "\n",
    "allsamples = [b0_samples, b1_samples, b2_samples, b3_samples, b4_samples, b5_samples, b6_samples]\n",
    "names = ['b0', 'b1', 'b2', 'b3', 'b4', 'b5', 'b6']\n",
    "print(\"Parameter   | Mean     | Std. Dev. | Least Squares | Std. Error\")\n",
    "print(\"------------|----------|----------\")\n",
    "for i, (name, arr) in enumerate(zip(names, allsamples)):\n",
    "    print(f\"{name:10}| {np.mean(arr):.6f} | {np.std(arr):.6f} | {linmodel.params.values[i]:.6f}  | {linmodel.bse.values[i]:.6f}\")"
   ]
  },
  {
   "cell_type": "code",
   "execution_count": null,
   "id": "cdc1b16e-0c20-469f-ba38-73fa09bd8934",
   "metadata": {},
   "outputs": [],
   "source": [
    "#Poisson Regression for Better Interpretation:\n",
    "# Define the response variable and covariates\n",
    "Y = mroz['hours']\n",
    "X = mroz[['kidslt6', 'age', 'educ', \n",
    "        'huswage', 'exper', 'expersq']].copy()\n",
    "X = sm.add_constant(X) # Add a constant (intercept) to the model\n",
    "# Fit the Poisson regression model\n",
    "poiregmodel = sm.GLM(Y, X, family=sm.families.Poisson()).fit()\n",
    "print(poiregmodel.summary())"
   ]
  },
  {
   "cell_type": "markdown",
   "id": "dc2baa08-fc28-41cf-9fe9-7fe29d08a388",
   "metadata": {},
   "source": [
    "What is the interpretation of the coefficient -0.8075 for the \"kidslt6\" variable. It  means that having a small kid reduces mean hours worked by 56%. This is a much more interpretable result compared to before. "
   ]
  },
  {
   "cell_type": "code",
   "execution_count": null,
   "id": "8638fb89-cbca-43f5-8c02-a3bddbdc615c",
   "metadata": {},
   "outputs": [],
   "source": [
    "#56% comes from:\n",
    "print((np.exp(poiregmodel.params['kidslt6']) - 1)*100)"
   ]
  },
  {
   "cell_type": "code",
   "execution_count": null,
   "id": "252c9c3d-28a5-4bd1-a8d7-73006167a252",
   "metadata": {},
   "outputs": [],
   "source": [
    "#We can also take the Bayesian Approach and use PyMC:\n",
    "import pymc as pm\n",
    "mrozpoimod = pm.Model()\n",
    "with mrozpoimod:\n",
    "    # Priors for unknown model parameters\n",
    "    b0 = pm.Flat(\"b0\")\n",
    "    b1 = pm.Flat(\"b1\")\n",
    "    b2 = pm.Flat(\"b2\")\n",
    "    b3 = pm.Flat(\"b3\")\n",
    "    b4 = pm.Flat(\"b4\")\n",
    "    b5 = pm.Flat(\"b5\")\n",
    "    b6 = pm.Flat(\"b6\")\n",
    "    log_mu = b0 + b1 * mroz['kidslt6'] +   b2 * mroz['age'] + b3 * mroz['educ'] + b4 * mroz['huswage'] + b5 * mroz['exper'] + b6 * mroz['expersq']\n",
    "    # Likelihood\n",
    "    Y_obs = pm.Poisson(\"Y_obs\", mu=np.exp(log_mu), observed=mroz['hours'])\n",
    "    idata = pm.sample(2000, chains = 2, random_seed = 0, return_inferencedata = True)  "
   ]
  },
  {
   "cell_type": "code",
   "execution_count": null,
   "id": "9963e738-e032-415e-8024-59799dc9f54b",
   "metadata": {},
   "outputs": [],
   "source": [
    "b0_samples = idata.posterior['b0'].values.flatten()\n",
    "b1_samples = idata.posterior['b1'].values.flatten()\n",
    "b2_samples = idata.posterior['b2'].values.flatten()\n",
    "b3_samples = idata.posterior['b3'].values.flatten()\n",
    "b4_samples = idata.posterior['b4'].values.flatten()\n",
    "b5_samples = idata.posterior['b5'].values.flatten()\n",
    "b6_samples = idata.posterior['b6'].values.flatten()\n",
    "\n",
    "allsamples = [b0_samples, b1_samples, b2_samples, b3_samples, b4_samples, b5_samples, b6_samples]\n",
    "names = ['b0', 'b1', 'b2', 'b3', 'b4', 'b5', 'b6']\n",
    "print(\"Parameter | Estimate | Std. Dev. | Frequentist | Std. Error\")\n",
    "print(\"------------|----------|----------\")\n",
    "for i, (name, arr) in enumerate(zip(names, allsamples)):\n",
    "    print(f\"{name:8}| {np.mean(arr):.6f} | {np.std(arr):.6f}  | {poiregmodel.params.values[i]:.6f}  | {poiregmodel.bse.values[i]:.6f}\")\n",
    "#However PyMC is not very reliable here. Change the random seed from 0 to 4\n",
    "#and look at the results. "
   ]
  },
  {
   "cell_type": "code",
   "execution_count": null,
   "id": "ecbac6ba-dbd6-4306-9914-204f930ffb63",
   "metadata": {},
   "outputs": [],
   "source": [
    "#Newton's Method for Calculating MLE in Poisson Regression\n",
    "beta_hat = poiregmodel.params.values #this is the correct answer computed by statsmodels\n",
    "print(beta_hat)\n",
    "\n",
    "#Initialization for Newton's Method\n",
    "m = 6\n",
    "p = 7\n",
    "beta_initial = [3, 0, 0, 0, 0, 0, 0]\n",
    "#beta_initial = beta_hat\n",
    "n = mroz.shape[0]\n",
    "Xmat = X.values\n",
    "Yvec = mroz['hours'].values"
   ]
  },
  {
   "cell_type": "code",
   "execution_count": null,
   "id": "0484bd80-e884-4016-b77b-298375dac408",
   "metadata": {},
   "outputs": [],
   "source": [
    "#Newton's Method\n",
    "log_muvec = np.dot(Xmat, beta_initial)\n",
    "muvec = np.exp(log_muvec)\n",
    "gradient = np.dot(Xmat.T,  Yvec - muvec)\n",
    "M = np.diag(muvec)\n",
    "Hessian = -Xmat.T @ M @ Xmat\n",
    "Hessian_inv = np.linalg.inv(Hessian)\n",
    "beta_initial = beta_initial - Hessian_inv @ gradient\n",
    "print(beta_initial)"
   ]
  },
  {
   "cell_type": "code",
   "execution_count": null,
   "id": "0ace639f-778a-4d49-8ebc-e7d80b054dca",
   "metadata": {},
   "outputs": [],
   "source": [
    "num_iterations = 100\n",
    "for i in range(num_iterations):\n",
    "    log_muvec = np.dot(Xmat, beta_initial)\n",
    "    muvec = np.exp(log_muvec)\n",
    "    gradient = np.dot(Xmat.T,  Yvec - muvec)\n",
    "    M = np.diag(muvec)\n",
    "    Hessian = -Xmat.T @ M @ Xmat\n",
    "    Hessian_inv = np.linalg.inv(Hessian)\n",
    "    beta_initial = beta_initial - Hessian_inv @ gradient\n",
    "    print(beta_initial)"
   ]
  },
  {
   "cell_type": "code",
   "execution_count": null,
   "id": "57c40ab3-e933-4f1e-a9ed-dc625a2a6465",
   "metadata": {},
   "outputs": [],
   "source": [
    "#Compare to estimate given by statsmodels\n",
    "print(beta_hat)"
   ]
  },
  {
   "cell_type": "code",
   "execution_count": null,
   "id": "c9aea7c4-f1ed-4f78-af54-3b26a9d11f1b",
   "metadata": {},
   "outputs": [],
   "source": [
    "#Standard Error Calculation:\n",
    "log_muvec = np.dot(Xmat, beta_hat)\n",
    "muvec = np.exp(log_muvec)\n",
    "M = np.diag(muvec)\n",
    "Hessian = -Xmat.T @ M @ Xmat\n",
    "Hessian_inv = np.linalg.inv(Hessian)\n",
    "CovMat = -Hessian_inv\n",
    "print(np.sqrt(np.diag(CovMat)))"
   ]
  },
  {
   "cell_type": "code",
   "execution_count": null,
   "id": "a5da476e-820f-4c1f-974c-0927790cedc8",
   "metadata": {},
   "outputs": [],
   "source": [
    "print(poiregmodel.bse)"
   ]
  },
  {
   "cell_type": "code",
   "execution_count": null,
   "id": "e0b76ff1-7475-4b28-937e-f2419a16ff60",
   "metadata": {},
   "outputs": [],
   "source": [
    "#Logistic Regression\n",
    "# Define the response variable and covariates\n",
    "Y = mroz['inlf'] #this is a binary variable\n",
    "X = mroz[['kidslt6', 'age', 'educ', \n",
    "        'huswage', 'exper', 'expersq']].copy()\n",
    "X = sm.add_constant(X)\n",
    "logimodel = sm.GLM(Y, X, family=sm.families.Binomial()).fit()\n",
    "print(logimodel.summary())"
   ]
  },
  {
   "cell_type": "markdown",
   "id": "1da9bb52-45d3-4105-aa63-ff63e27ea840",
   "metadata": {},
   "source": [
    "What is the interpretation of the coefficient -1.4516 of the 'kidslt6' variable? It means that having a small kid reduces the log-odds of working by -1.4516. This means that the odds are reduced by a factor of $\\exp(-1.4516) \\approx 0.234$. "
   ]
  },
  {
   "cell_type": "code",
   "execution_count": null,
   "id": "0ff5fd88-b82d-4db9-9d5d-e5362bbfd812",
   "metadata": {},
   "outputs": [],
   "source": [
    "pold = 0.5\n",
    "pnew = 1/((np.exp(-logimodel.params['kidslt6']) * (-1 + 1/pold)) + 1)\n",
    "print([pold, pnew])"
   ]
  },
  {
   "cell_type": "code",
   "execution_count": null,
   "id": "d3176f60-5d4f-48b9-92f2-d6c8e5139ed9",
   "metadata": {},
   "outputs": [],
   "source": [
    "beta_hat = logimodel.params.values #this is the correct answer computed by statsmodels\n",
    "print(beta_hat)\n",
    "\n",
    "#Initialization for Newton's Method\n",
    "m = 6\n",
    "p = 7\n",
    "beta_initial = [0, 0, 0, 0, 0, 0, 0]\n",
    "#beta_initial = beta_hat\n",
    "n = mroz.shape[0]\n",
    "Xmat = X.values\n",
    "Yvec = mroz['inlf'].values"
   ]
  },
  {
   "cell_type": "code",
   "execution_count": null,
   "id": "dd567e73-1e09-4385-b852-74a00311dcc8",
   "metadata": {},
   "outputs": [],
   "source": [
    "#Newton's Method\n",
    "xbeta = np.dot(Xmat, beta_initial)\n",
    "muvec = np.exp(xbeta)/(1+np.exp(xbeta))\n",
    "gradient = np.dot(Xmat.T,  Yvec - muvec)\n",
    "M = np.diag(muvec*(1-muvec))\n",
    "Hessian = -Xmat.T @ M @ Xmat\n",
    "Hessian_inv = np.linalg.inv(Hessian)\n",
    "beta_initial = beta_initial - Hessian_inv @ gradient\n",
    "print(beta_initial)"
   ]
  },
  {
   "cell_type": "code",
   "execution_count": null,
   "id": "bda9ee08-1c24-4947-a60a-ac36c40fed08",
   "metadata": {},
   "outputs": [],
   "source": [
    "num_iterations = 10\n",
    "for i in range(num_iterations):\n",
    "    xbeta = np.dot(Xmat, beta_initial)\n",
    "    muvec = np.exp(xbeta)/(1+np.exp(xbeta))\n",
    "    gradient = np.dot(Xmat.T,  Yvec - muvec)\n",
    "    M = np.diag(muvec*(1-muvec))\n",
    "    Hessian = -Xmat.T @ M @ Xmat\n",
    "    Hessian_inv = np.linalg.inv(Hessian)\n",
    "    beta_initial = beta_initial - Hessian_inv @ gradient\n",
    "    print(beta_initial)"
   ]
  },
  {
   "cell_type": "code",
   "execution_count": null,
   "id": "014d56ba-1d6b-4f0f-b907-7db4725411e2",
   "metadata": {},
   "outputs": [],
   "source": [
    "print(beta_hat)"
   ]
  },
  {
   "cell_type": "code",
   "execution_count": null,
   "id": "9163316f-fca7-4539-9867-f6773345a5ff",
   "metadata": {},
   "outputs": [],
   "source": [
    "#Standard Error Calculation:\n",
    "xbeta = np.dot(Xmat, beta_hat)\n",
    "muvec = np.exp(xbeta)/(1+np.exp(xbeta))\n",
    "M = np.diag(muvec * (1-muvec))\n",
    "Hessian = -Xmat.T @ M @ Xmat\n",
    "Hessian_inv = np.linalg.inv(Hessian)\n",
    "CovMat = -Hessian_inv\n",
    "print(np.sqrt(np.diag(CovMat)))"
   ]
  },
  {
   "cell_type": "code",
   "execution_count": null,
   "id": "35c62fa2-41c2-4b9e-ab6a-e50387a89ca3",
   "metadata": {},
   "outputs": [],
   "source": [
    "print(logimodel.bse)"
   ]
  }
 ],
 "metadata": {
  "kernelspec": {
   "display_name": "Python 3 (ipykernel)",
   "language": "python",
   "name": "python3"
  },
  "language_info": {
   "codemirror_mode": {
    "name": "ipython",
    "version": 3
   },
   "file_extension": ".py",
   "mimetype": "text/x-python",
   "name": "python",
   "nbconvert_exporter": "python",
   "pygments_lexer": "ipython3",
   "version": "3.11.0"
  }
 },
 "nbformat": 4,
 "nbformat_minor": 5
}
